{
 "cells": [
  {
   "cell_type": "markdown",
   "metadata": {},
   "source": [
    "# 痞客邦資料分析"
   ]
  },
  {
   "cell_type": "markdown",
   "metadata": {},
   "source": [
    "## Preparation"
   ]
  },
  {
   "cell_type": "code",
   "execution_count": 15,
   "metadata": {
    "collapsed": true
   },
   "outputs": [],
   "source": [
    "# module import\n",
    "import re\n",
    "import json\n",
    "from bs4 import BeautifulSoup\n",
    "from pprint import pprint"
   ]
  },
  {
   "cell_type": "code",
   "execution_count": 90,
   "metadata": {
    "collapsed": true
   },
   "outputs": [],
   "source": [
    "# the file path of pixnet\n",
    "data_file_path = \"./2017-pixnet-hackathon-data/article/food.json\"\n",
    "\n",
    "# the file path to our data\n",
    "our_data_file_path = \"./data.json\""
   ]
  },
  {
   "cell_type": "markdown",
   "metadata": {},
   "source": [
    "## Load the json file"
   ]
  },
  {
   "cell_type": "code",
   "execution_count": 17,
   "metadata": {
    "collapsed": false
   },
   "outputs": [],
   "source": [
    "data = []\n",
    "with open(data_file_path) as data_file:\n",
    "    for line in data_file:\n",
    "        data.append(json.loads(line))"
   ]
  },
  {
   "cell_type": "code",
   "execution_count": 18,
   "metadata": {
    "collapsed": false
   },
   "outputs": [
    {
     "name": "stdout",
     "output_type": "stream",
     "text": [
      "Number of blogs: 9635\n"
     ]
    }
   ],
   "source": [
    "print \"Number of blogs: {}\".format(len(data))"
   ]
  },
  {
   "cell_type": "code",
   "execution_count": 19,
   "metadata": {
    "collapsed": true
   },
   "outputs": [],
   "source": [
    "# filter out data without content\n",
    "data = [d for d in data if 'content' in d]\n"
   ]
  },
  {
   "cell_type": "markdown",
   "metadata": {},
   "source": [
    "## Parse the phone"
   ]
  },
  {
   "cell_type": "code",
   "execution_count": 45,
   "metadata": {
    "collapsed": true
   },
   "outputs": [],
   "source": [
    "#phone_pattern = r\"電話?([0-9\\-])\"\n",
    "phone_pattern = r\"電話.{,10}[0-9\\-\\(\\)\\s]+\"\n",
    "phone_format = r\"([0-9]+)[^0-9]*([0-9]*)[^0-9]*([0-9]*)[^0-9]*([0-9]*)\"\n",
    "debug_pattern = \"電話.{50}\""
   ]
  },
  {
   "cell_type": "code",
   "execution_count": null,
   "metadata": {
    "collapsed": true
   },
   "outputs": [],
   "source": [
    "# pattern refine process\n",
    "for d in data:\n",
    "    # remove the html tag\n",
    "    content_without_html = BeautifulSoup(d['content']).text\n",
    "    \n",
    "    if re.findall(phone_pattern, content_without_html.encode('utf-8')):\n",
    "        for raw_phone in re.findall(phone_pattern, content_without_html.encode('utf-8')):\n",
    "            p = re.findall(phone_format, raw_phone)\n",
    "            #print p\n",
    "            #print raw_phone"
   ]
  },
  {
   "cell_type": "markdown",
   "metadata": {
    "collapsed": true
   },
   "source": [
    "## Parse the address"
   ]
  },
  {
   "cell_type": "code",
   "execution_count": 81,
   "metadata": {
    "collapsed": true
   },
   "outputs": [],
   "source": [
    "address_pattern1 = r\"地址.{,200}\"\n",
    "address_pattern2 = r\"地址：*\\s*(.*(號|樓)\\s*\\)*)\""
   ]
  },
  {
   "cell_type": "code",
   "execution_count": 85,
   "metadata": {
    "collapsed": true
   },
   "outputs": [],
   "source": [
    "def get_address(json_blog):\n",
    "    result = []\n",
    "    s_contain_addr = re.findall(address_pattern1, json_blog['content'].encode('utf-8'))\n",
    "    for sca in s_contain_addr:\n",
    "        s_without_html = BeautifulSoup(sca).text\n",
    "        s_addr = re.findall(address_pattern2, s_without_html.encode('utf-8'))\n",
    "        for sa in s_addr:\n",
    "            result.append(sa[0])\n",
    "    return result"
   ]
  },
  {
   "cell_type": "code",
   "execution_count": 89,
   "metadata": {
    "collapsed": false,
    "scrolled": true
   },
   "outputs": [],
   "source": [
    "count = 0\n",
    "# pattern refine process\n",
    "for d in data:\n",
    "    addresses = get_address(d)\n",
    "    if addresses:\n",
    "        count += 1\n",
    "        #print addresses[0]"
   ]
  },
  {
   "cell_type": "code",
   "execution_count": 87,
   "metadata": {
    "collapsed": false
   },
   "outputs": [
    {
     "data": {
      "text/plain": [
       "4399"
      ]
     },
     "execution_count": 87,
     "metadata": {},
     "output_type": "execute_result"
    }
   ],
   "source": [
    "count"
   ]
  },
  {
   "cell_type": "markdown",
   "metadata": {},
   "source": [
    "## Write json"
   ]
  },
  {
   "cell_type": "code",
   "execution_count": 88,
   "metadata": {
    "collapsed": true
   },
   "outputs": [],
   "source": [
    "our_data = {}\n",
    "for d in data:\n",
    "    id = d['article_id']\n",
    "    our_data[id] = {}\n",
    "    our_data[id]['url'] = d['url']\n",
    "    our_data[id]['hits'] = d['hits']\n",
    "    \n",
    "    # get address\n",
    "    address = get_address(d)\n",
    "    \n",
    "    if address:\n",
    "        our_data[id]['address'] = address\n",
    "        our_data[id]['usable'] = True\n",
    "    else:\n",
    "        our_data[id]['usable'] = False"
   ]
  },
  {
   "cell_type": "code",
   "execution_count": 92,
   "metadata": {
    "collapsed": false
   },
   "outputs": [],
   "source": [
    "with open(our_data_file_path, 'w') as data_file:\n",
    "    json.dump(our_data, data_file, ensure_ascii=False)"
   ]
  },
  {
   "cell_type": "code",
   "execution_count": null,
   "metadata": {
    "collapsed": true
   },
   "outputs": [],
   "source": []
  }
 ],
 "metadata": {
  "kernelspec": {
   "display_name": "Python 2",
   "language": "python",
   "name": "python2"
  },
  "language_info": {
   "codemirror_mode": {
    "name": "ipython",
    "version": 2
   },
   "file_extension": ".py",
   "mimetype": "text/x-python",
   "name": "python",
   "nbconvert_exporter": "python",
   "pygments_lexer": "ipython2",
   "version": "2.7.13"
  }
 },
 "nbformat": 4,
 "nbformat_minor": 2
}
