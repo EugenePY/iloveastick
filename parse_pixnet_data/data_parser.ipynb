{
 "cells": [
  {
   "cell_type": "markdown",
   "metadata": {},
   "source": [
    "# 痞客邦資料分析"
   ]
  },
  {
   "cell_type": "markdown",
   "metadata": {},
   "source": [
    "## Preparation"
   ]
  },
  {
   "cell_type": "code",
   "execution_count": 69,
   "metadata": {
    "collapsed": true
   },
   "outputs": [],
   "source": [
    "# module import\n",
    "import re\n",
    "import json\n",
    "import jieba\n",
    "from bs4 import BeautifulSoup\n",
    "from pprint import pprint"
   ]
  },
  {
   "cell_type": "code",
   "execution_count": 10,
   "metadata": {
    "collapsed": true
   },
   "outputs": [],
   "source": [
    "# the file path of pixnet\n",
    "data_file_path = \"./2017-pixnet-hackathon-data/article/food.json\"\n",
    "\n",
    "# the file path to our data\n",
    "our_data_file_path = \"./data.json\""
   ]
  },
  {
   "cell_type": "markdown",
   "metadata": {},
   "source": [
    "## Load the json file"
   ]
  },
  {
   "cell_type": "code",
   "execution_count": 11,
   "metadata": {
    "collapsed": false
   },
   "outputs": [],
   "source": [
    "data = []\n",
    "with open(data_file_path) as data_file:\n",
    "    for line in data_file:\n",
    "        data.append(json.loads(line))"
   ]
  },
  {
   "cell_type": "code",
   "execution_count": 12,
   "metadata": {
    "collapsed": false
   },
   "outputs": [
    {
     "name": "stdout",
     "output_type": "stream",
     "text": [
      "Number of blogs: 9635\n"
     ]
    }
   ],
   "source": [
    "print \"Number of blogs: {}\".format(len(data))"
   ]
  },
  {
   "cell_type": "code",
   "execution_count": 13,
   "metadata": {
    "collapsed": true
   },
   "outputs": [],
   "source": [
    "# filter out data without content\n",
    "data = [d for d in data if 'content' in d]\n"
   ]
  },
  {
   "cell_type": "markdown",
   "metadata": {},
   "source": [
    "## Parse the phone"
   ]
  },
  {
   "cell_type": "code",
   "execution_count": 40,
   "metadata": {
    "collapsed": true
   },
   "outputs": [],
   "source": [
    "phone_pattern1 = r\"電話.{,200}\"\n",
    "phone_pattern2 = r\"電話.{,4}?([0-9\\-\\(][0-9\\-\\(\\)\\s]*[0-9])\"\n",
    "#phone_format = r\"([0-9]+)[^0-9]*([0-9]*)[^0-9]*([0-9]*)[^0-9]*([0-9]*)\"\n",
    "#debug_pattern = \"電話.{50}\""
   ]
  },
  {
   "cell_type": "code",
   "execution_count": 41,
   "metadata": {
    "collapsed": true
   },
   "outputs": [],
   "source": [
    "def get_phone(json_blog):\n",
    "    result = []\n",
    "    s_contain_phone = re.findall(phone_pattern1, json_blog['content'].encode('utf-8'))\n",
    "    for scp in s_contain_phone:\n",
    "        s_without_html = BeautifulSoup(scp).text\n",
    "        s_phone = re.findall(phone_pattern2, s_without_html.encode('utf-8'))\n",
    "        for sp in s_phone:\n",
    "            result.append(sp)\n",
    "    return result"
   ]
  },
  {
   "cell_type": "code",
   "execution_count": 46,
   "metadata": {
    "collapsed": false
   },
   "outputs": [
    {
     "name": "stdout",
     "output_type": "stream",
     "text": [
      "get 5646 phone\n"
     ]
    }
   ],
   "source": [
    "# pattern refine process\n",
    "count = 0\n",
    "for d in data:\n",
    "    phone = get_phone(d)\n",
    "    if phone:\n",
    "        count += 1\n",
    "print \"get {} phone\".format(count)"
   ]
  },
  {
   "cell_type": "markdown",
   "metadata": {
    "collapsed": true
   },
   "source": [
    "## Parse the address"
   ]
  },
  {
   "cell_type": "code",
   "execution_count": 43,
   "metadata": {
    "collapsed": true
   },
   "outputs": [],
   "source": [
    "address_pattern1 = r\"地址.{,200}\"\n",
    "address_pattern2 = r\"地址：*\\s*(.*(號|樓)\\s*\\)*)\""
   ]
  },
  {
   "cell_type": "code",
   "execution_count": 44,
   "metadata": {
    "collapsed": true
   },
   "outputs": [],
   "source": [
    "def get_address(json_blog):\n",
    "    result = []\n",
    "    s_contain_addr = re.findall(address_pattern1, json_blog['content'].encode('utf-8'))\n",
    "    for sca in s_contain_addr:\n",
    "        s_without_html = BeautifulSoup(sca).text\n",
    "        s_addr = re.findall(address_pattern2, s_without_html.encode('utf-8'))\n",
    "        for sa in s_addr:\n",
    "            result.append(sa[0])\n",
    "    return result"
   ]
  },
  {
   "cell_type": "code",
   "execution_count": 45,
   "metadata": {
    "collapsed": false,
    "scrolled": true
   },
   "outputs": [
    {
     "name": "stdout",
     "output_type": "stream",
     "text": [
      "get 4399 address\n"
     ]
    }
   ],
   "source": [
    "count = 0\n",
    "for d in data:\n",
    "    addresses = get_address(d)\n",
    "    if addresses:\n",
    "        count += 1\n",
    "print \"get {} address\".format(count)"
   ]
  },
  {
   "cell_type": "markdown",
   "metadata": {},
   "source": [
    "## Parse the time"
   ]
  },
  {
   "cell_type": "code",
   "execution_count": 59,
   "metadata": {
    "collapsed": true
   },
   "outputs": [],
   "source": [
    "time_pattern1 = r\"營業時間.{,200}\""
   ]
  },
  {
   "cell_type": "code",
   "execution_count": 68,
   "metadata": {
    "collapsed": false
   },
   "outputs": [],
   "source": [
    "for d in data:\n",
    "    s_contain_time = re.findall(time_pattern1, d['content'].encode('utf-8'))\n",
    "    for s in s_contain_time:\n",
    "        pass\n",
    "        #print s"
   ]
  },
  {
   "cell_type": "markdown",
   "metadata": {},
   "source": [
    "## Write json"
   ]
  },
  {
   "cell_type": "code",
   "execution_count": 47,
   "metadata": {
    "collapsed": true
   },
   "outputs": [],
   "source": [
    "our_data = {}\n",
    "for d in data:\n",
    "    id = d['article_id']\n",
    "    our_data[id] = {}\n",
    "    our_data[id]['url'] = d['url']\n",
    "    our_data[id]['hits'] = d['hits']\n",
    "    \n",
    "    # get address\n",
    "    address = get_address(d)\n",
    "    phone = get_phone(d)\n",
    "    \n",
    "    if address:\n",
    "        our_data[id]['address'] = address[-1]\n",
    "    if phone:\n",
    "        our_data[id]['phone'] = phone[-1]\n",
    "    if address and phone:\n",
    "        our_data[id]['usable'] = True\n",
    "    else:\n",
    "        our_data[id]['usable'] = False"
   ]
  },
  {
   "cell_type": "code",
   "execution_count": 48,
   "metadata": {
    "collapsed": false
   },
   "outputs": [],
   "source": [
    "with open(our_data_file_path, 'w') as data_file:\n",
    "    json.dump(our_data, data_file, ensure_ascii=False)"
   ]
  },
  {
   "cell_type": "code",
   "execution_count": 53,
   "metadata": {
    "collapsed": false
   },
   "outputs": [
    {
     "data": {
      "text/plain": [
       "3705"
      ]
     },
     "execution_count": 53,
     "metadata": {},
     "output_type": "execute_result"
    }
   ],
   "source": [
    "sum([1 for _, d in our_data.items() if d['usable']])"
   ]
  },
  {
   "cell_type": "code",
   "execution_count": 66,
   "metadata": {
    "collapsed": false
   },
   "outputs": [
    {
     "name": "stdout",
     "output_type": "stream",
     "text": [
      "台北市大安區敦化南路一段160巷13號1樓 \n",
      "http://tony60533.pixnet.net/blog/post/30745555\n"
     ]
    }
   ],
   "source": [
    "for _, d in our_data.items():\n",
    "    if 'address' in d:\n",
    "        print d['address']\n",
    "        print d['url']\n",
    "        break"
   ]
  },
  {
   "cell_type": "code",
   "execution_count": 63,
   "metadata": {
    "collapsed": false
   },
   "outputs": [
    {
     "data": {
      "text/plain": [
       "{'hits': 1601287,\n",
       " 'url': u'http://nigi33kimo.pixnet.net/blog/post/99647661',\n",
       " 'usable': False}"
      ]
     },
     "execution_count": 63,
     "metadata": {},
     "output_type": "execute_result"
    }
   ],
   "source": [
    "our_data['99647661']"
   ]
  },
  {
   "cell_type": "code",
   "execution_count": null,
   "metadata": {
    "collapsed": true
   },
   "outputs": [],
   "source": []
  }
 ],
 "metadata": {
  "kernelspec": {
   "display_name": "Python 2",
   "language": "python",
   "name": "python2"
  },
  "language_info": {
   "codemirror_mode": {
    "name": "ipython",
    "version": 2
   },
   "file_extension": ".py",
   "mimetype": "text/x-python",
   "name": "python",
   "nbconvert_exporter": "python",
   "pygments_lexer": "ipython2",
   "version": "2.7.13"
  }
 },
 "nbformat": 4,
 "nbformat_minor": 2
}
