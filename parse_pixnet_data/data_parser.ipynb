{
 "cells": [
  {
   "cell_type": "markdown",
   "metadata": {},
   "source": [
    "# 痞客邦資料分析"
   ]
  },
  {
   "cell_type": "markdown",
   "metadata": {},
   "source": [
    "## Preparation"
   ]
  },
  {
   "cell_type": "code",
   "execution_count": 56,
   "metadata": {
    "collapsed": true
   },
   "outputs": [],
   "source": [
    "# module import\n",
    "import re\n",
    "import json\n",
    "from pprint import pprint"
   ]
  },
  {
   "cell_type": "code",
   "execution_count": 2,
   "metadata": {
    "collapsed": true
   },
   "outputs": [],
   "source": [
    "# the file path of pixnet\n",
    "data_file_path = \"./2017-pixnet-hackathon-data/article/food.json\""
   ]
  },
  {
   "cell_type": "markdown",
   "metadata": {},
   "source": [
    "## Load the json file"
   ]
  },
  {
   "cell_type": "code",
   "execution_count": 57,
   "metadata": {
    "collapsed": false
   },
   "outputs": [],
   "source": [
    "data = []\n",
    "with open(data_file_path) as data_file:\n",
    "    for line in data_file:\n",
    "        data.append(json.loads(line))"
   ]
  },
  {
   "cell_type": "code",
   "execution_count": 139,
   "metadata": {
    "collapsed": false
   },
   "outputs": [
    {
     "name": "stdout",
     "output_type": "stream",
     "text": [
      "Number of blogs: 9635\n"
     ]
    }
   ],
   "source": [
    "print \"Number of blogs: {}\".format(len(data))"
   ]
  },
  {
   "cell_type": "code",
   "execution_count": null,
   "metadata": {
    "collapsed": true
   },
   "outputs": [],
   "source": [
    "# filter out data without content\n",
    "data = [d for d in data if 'content' in d]\n"
   ]
  },
  {
   "cell_type": "markdown",
   "metadata": {},
   "source": [
    "## Parse the phone"
   ]
  },
  {
   "cell_type": "code",
   "execution_count": 137,
   "metadata": {
    "collapsed": true
   },
   "outputs": [],
   "source": [
    "#phone_pattern = r\"電話?([0-9\\-])\"\n",
    "phone_pattern = r\"電話.*?([0-9\\-\\(\\)]+)\"\n",
    "debug_pattern = \"電話.{50}\""
   ]
  },
  {
   "cell_type": "code",
   "execution_count": 138,
   "metadata": {
    "collapsed": false
   },
   "outputs": [
    {
     "name": "stdout",
     "output_type": "stream",
     "text": [
      "電話．．．全是只有小時候回爺爺家才會�\n",
      "電話：（０２）２９１０－９９５８</span><\n",
      "電話：０９２８９７８１９９（Gary）</stron\n",
      "電話跟老闆問清楚，老闆說成立的理想是�\n",
      "電話預訂或臉書Messenger留言預訂，最晚為�\n",
      "電話後，得知鳳山有這樣的素食大街，聽�\n",
      "電話進來，其他用餐或準備時段店家都是�\n",
      "電話訂位的難度也不低，想預約得多點耐�\n",
      "電話通知，但店家還限制了每日登記人數�\n",
      "電話去很順利地就完成了訂位，容易的程�\n",
      "電話，不過我還是有體會到探索廚房電話�\n",
      "電話確認看看這才發現還真不太好打...好�\n",
      "電話都沒人接，最後只好親自跑去潮肉訂�\n",
      "電話臨時預約晚上的用餐事宜，接通時的�\n",
      "電話那頭突然講了一堆聽不懂的語言，到�\n",
      "電話那端傳來親切的聲音，我毫不猶豫的�\n",
      "電話預約，依照貴賓訂位日期以及人數安�\n",
      "電話那頭，威宏告訴我，現在台南高鐵與�\n",
      "電話預約，所以有心想吃到，並不算難，</\n",
      "電話，先去別處晃晃，店家會電話通知有�\n",
      "電話訂位，結果訂了兩次都沒有訂到，第�\n",
      "電話號碼，好奇地問老闆娘藍記究竟有啥�\n",
      "電話預定，省下來的時間能更快享用熱呼�\n",
      "電話訂位注文小隔間，才能享受早午餐的�\n",
      "電話預約外帶也是不錯的選擇！</span></span>\n",
      "電話預約外帶，營業時間更改如下</span></em\n",
      "電話訂位，免得真的擠不進好擠！</span></sp\n",
      "電話訂位時確認可以拍照，坐定後就先在�\n",
      "電話預約</strong></strong></span></strong></span></p\n",
      "電話預約</strong></strong></strong></strong></span><\n",
      "電話預約</strong></strong></strong></strong></strong\n",
      "電話、技術或其他不可歸責於本格之事由�\n",
      "電話：（０２）２２１９－０９８０</span><\n",
      "電話詢問一下<br />（以上價格都需要另外�\n",
      "電話來時問我中午吃啥?我都說我中午吃飼�\n",
      "電話亭奶茶！在高雄也創下大排長龍的紀�\n",
      "電話亭，非常跳痛的大膽設計，讓人想一�\n",
      "電話預約喔 &nbsp; 或者先來這訂位再去附近\n",
      "電話預約<br />採用FB訊息訂位，月初就要開\n",
      "電話號碼，師傅就會盡量避開前次的菜色�\n",
      "電話訂位時，告知當天用餐是特別節日慶�\n",
      "電話預約了九點開始營業的時間，</span></p>\n",
      "電話預約訂餐，去的時候就不用等太久。</\n",
      "電話溝通過我不吃生食，所以這道鮭魚是�\n",
      "電話訂位，要在現場候位喔~</span></span></spa\n",
      "電話，所以想說，還是上來更新，讓有需�\n",
      "電話來預訂，當天來取貨時，電話一直響�\n",
      "電話問我陸早茶屋怎麼走? 大尾家霜淇淋好\n",
      "電話告訴母親，\"那個蛋糕要把它放冰箱，�\n",
      "電話中有交代了，但你們猜，這蛋糕會變�\n",
      "電話來預約的啊，住在附近的老顧客都知�\n",
      "電話來預約吧，炸醬雞有提供菜單可以讓�\n",
      "電話：０７－３３１－９６１６（開放六�\n",
      "電話來說有人要請客叫我趕快來吃喔～～�\n",
      "電話詢問老闆是否還有牛排，<br />以免晚�\n",
      "電話預約，結果近兩個星期的午餐都是訂�\n",
      "電話去預約，三人小團體就這麼臨時來個�\n",
      "電話想預約，不過店家採現場候位制，想�\n",
      "電話，其他的就等電話通知囉～預約完就�\n",
      "電話給好友單身女子，她說在貴陽街叫三�\n",
      "電話告訴我，因為她在外面要查。</span></p>\n",
      "電話中還交代我說 : 快...烤肉吃太多.先幫�\n",
      "電話和地址也比較方便.<br />有些附上我不�\n",
      "電話訂位的話，就會有客滿情形，僅為候�\n",
      "電話、營業時間等資料，方便大家查找。</\n",
      "電話就可以追加人數，不過電話非常難打�\n",
      "電話跟師傅反應。待會兒再來試試看。</spa\n",
      "電話預約只訂到兩個月後的週末，人氣似�\n",
      "電話亭，在裝潢上我覺得還蠻不錯的。</spa\n",
      "電話去訂位時已經客滿了，所以改成現場�\n",
      "電話中先詢問薄多義是否可帶蛋糕進去慶�\n",
      "電話來預約，但店家說：『要現場後候位�\n",
      "電話、地址，還有今天我們到訪的店家位�\n",
      "電話真的比較能有買到貨的保證喲^^</span></\n",
      "電話詢問，人員是說接客到七點半，但知�\n",
      "電話來問當天有沒有蜜地瓜，甚至問說他�\n",
      "電話與您再次確認時間、地點，謝謝！</spa\n",
      "電話與您再次確認時間、地點，謝謝！</spa\n",
      "電話預約或來得比較早的話，就比較有機�\n",
      "電話：０２－２１８１９９９９</span></stron\n",
      "電話訂購，老闆娘還主動問我</span></span></s\n",
      "電話比較保險</span></span></span></span></span></s\n",
      "電話聯絡上正好事情告一段落的奇緣哥，�\n",
      "電話去訂餐時，除了蘑菇燉雞已經確定之�\n",
      "電話悄悄綻放光芒，方型的卡片名片也是�\n",
      "電話去問問看囉~~還有要訂他們家的便當請\n",
      "電話訂位，不過你到現場發現客滿可以現�\n",
      "電話裡說那個要幾分糖這個要去冰，是要�\n",
      "電話亭，總以為走進去會遇見超人。</span><\n",
      "電話預約訂位了！幸好我們今天是下午的</\n",
      "電話：０６－２２１０８００</span></strong><\n",
      "電話來燒霸問,得到的結果也是沒位置</span>\n",
      "電話，試探的詢問還在上班的老公意下如�\n",
      "電話那頭傳來的答案是「隨便啊」</span></sp\n",
      "電話通知不用一直在現場苦待，此時逛逛�\n",
      "電話預訂麵包的，所以他們家的麵包也是�\n",
      "電話碰碰運氣，或許還是可以爭取到吧？</\n",
      "電話訂貨，接電話的人似乎要她到現場，</\n",
      "電話交涉的過程中，其實感受不出節目的�\n",
      "電話到頤宮想訂五折的下午茶優惠，結果�\n",
      "電話，我小孬孬不敢問，如果有人問到麻�\n",
      "電話問時，店員是說他們家會一直賣到星�\n",
      "電話到總公司客服去詢問販售點資訊，</spa\n",
      "電話預訂 因為訴求新鮮 都會做當天預訂的\n",
      "電話預約，<br />店家還親切告知我們在燦�\n",
      "電話來問為什麼我這個孕婦還不回家）。</\n",
      "電話連繫,月子阿姨每天都在看我拆宅配包�\n",
      "電話來告知，讓人感到備受尊重，</span></p>\n",
      "電話：（０２）２７７２－３３０２</span><\n",
      "電話：（０２）２７３１－９７１６</span><\n",
      "電話：（０２）２７８６－４３９９</span><\n",
      "電話去訂，竟然要到９／８才有晚上的位�\n",
      "電話：０２－２７９６３６２３</span>&nbsp;<\n",
      "電話：０２－２７２１８９１５</span></span>\n",
      "電話：０２－２７３６７１９２</span></span>\n",
      "電話：０２－２８８３５９８３</span></span>\n",
      "電話：０２－２７７６３６８０</span></span>\n",
      "電話：０２－２８３８３２２８</span></span>\n",
      "電話：０２－２７７８１１３５</span></span>\n",
      "電話：０２－２７３１３７７９</span></span>\n",
      "電話給牛排也頗有名氣，同時也是洋蔥相�\n",
      "電話：０２－２５０７３１３６</span></span>\n",
      "電話：０２－２５２３５１１０</span></span>\n",
      "電話：０２－２７７８９２２２</span></span>\n",
      "電話：０２－２５７８７２５９</span></span>\n",
      "電話：０２－２５１５７６２８　</span></sp\n",
      "電話：０２－２７１１５６８７</span></span>\n",
      "電話：０２－２５８５７２２２</span></span>\n",
      "電話：０２－２７６０００１０</span></span>\n",
      "電話：０２－８７７３５５５６</span></span>\n",
      "電話：０２－２５０９１２７７（現在要�\n",
      "電話：０２－２５０３７６６７</span>&nbsp;&\n",
      "電話訂位時就會詢問是否慶生或任何節日�\n",
      "電話：０２－２７２９８５５５&nbsp;</span><\n",
      "電話：０２－２２４８２７６６</span>&nbsp;<\n",
      "電話響了超級無敵久才有人接</strong></span><\n",
      "電話：０２－２７０９２６２７</span>&nbsp;<\n",
      "電話：０２－８７７３２１３６</span>&nbsp;&\n",
      "電話都沒有換，我們一直很想念他們咖哩�\n",
      "電話：０２－２５４５８８８８</span>&nbsp;<\n",
      "電話裡服務生的耐心跟親切就可見一般</spa\n",
      "電話：０２－２９３７８６７８</span>&nbsp;<\n",
      "電話：０２－２３１１０２１０</span>&nbsp;<\n",
      "電話：０２－２５５７９６５８９</span></p>\n",
      "電話：０２－２６４１６４２２</span>&nbsp;<\n",
      "電話：０２－２７７５３６１４</span>&nbsp;<\n",
      "電話訂位，卻都落的『已客滿』的下場</spa\n",
      "電話：０２－２７１１１７２６</span>&nbsp;<\n",
      "電話：０２－２７００３５０１</span>&nbsp;<\n",
      "電話：０２－８７７２４６１８</span>&nbsp;<\n",
      "電話：０２－２５８５３２５８</span>&nbsp;<\n",
      "電話：０３－４２６６２６６</span></span></p\n",
      "電話：０２－２７１１９９０６（不用打�\n",
      "電話：０２－２７１１１８５６</span>&nbsp;<\n",
      "電話的服務生，是後者花酒ㄗㄤˋ噢！！</s\n",
      "電話：０２－２７２２０１２８（&larr;電�\n",
      "電話：０２－２５１１０９９３&nbsp;</span><\n",
      "電話：０２－２９３０２１００&nbsp;</span><\n",
      "電話：０２－８７５２６６０６&nbsp;<br /></\n",
      "電話：０９７１４９２１８３&nbsp;</span></p>\n",
      "電話：０２－２７５５３３３６&nbsp;</span><\n",
      "電話：０２－２１００２１００分機２１�\n",
      "電話：０２－２７３１９９６６<br /></span><\n",
      "電話打不通我發訊息給粉絲團，管理者態�\n",
      "電話：０２－２７７５２８７２</span>&nbsp;<\n",
      "電話：０２－２７６８６７６８<br /></span><\n",
      "電話：０２－２３０９３２２２<br /></span><\n",
      "電話：０２－２７５１７９９８<br /></span><\n",
      "電話：０２－２３２１５８３８</span>&nbsp;<\n",
      "電話：０２－２３１２３５３６<br /></span><\n",
      "電話：０２－２７９６３６２３</span>&nbsp;<\n",
      "電話：０２－８２８６９０３８</span>&nbsp;<\n",
      "電話：０２－２７６９３３５５</span>&nbsp;<\n",
      "電話跟現場都能訂位，現場也都會保留三�\n",
      "電話：０２－８７７３９０５０ &nbsp;&nbsp;&\n",
      "電話：０２－２３２５８１２６<br /></span><\n",
      "電話訂位並向服務人員告知欲使用本優惠�\n",
      "電話還是失敗，多謝友人幫忙訂到阿～～</\n",
      "電話：０２－２７７３０３０３<br /></span><\n",
      "電話：０２－２７５２１００１</span>&nbsp;&\n",
      "電話：０２－２７３６６５０６</span>&nbsp;&\n",
      "電話：０２－２５０８１２６８</span>&nbsp;&\n",
      "電話預約的，一定要現場排隊領號碼牌。</\n",
      "電話確認定位，當天一小時前又再打電話�\n",
      "電話去訂，台南的朋友等我家的吃完嘿XD</s\n",
      "電話預約外，還可以網路上預約&lt;網路的�\n",
      "電話訂位的話會被安排於預約席</strong></spa\n",
      "電話訂位時，店家有說當月壽星會送一份�\n",
      "電話預訂，才能選擇口味唷，不然就是能�\n",
      "電話去詢問正確地址喔!以免撲空。</span></s\n",
      "電話預定，想說就是不能預定了!!!</span></sp\n",
      "電話訂位 因為他們真的沒空接XD</span></span>\n",
      "電話詢問或官方臉書查詢</span></strong></span>\n",
      "電話去問，問到他們壓力很大，所以就....�\n",
      "電話預約..想嚐鮮的朋友可要趁早卡位唷~</\n",
      "電話去訂～聽說台中假日的時候已經要等�\n",
      "電話訂位，大概打了幾百通才終於訂到位�\n",
      "電話去訂位，服務員告知必須現場候位，�\n",
      "電話說，要去漢神巨蛋樓上吃飯，當時我�\n",
      "電話訂了位，去看看台南的分店是不是有�\n"
     ]
    }
   ],
   "source": [
    "# pattern refine process\n",
    "for d in data:\n",
    "    if 'content' not in d:\n",
    "        continue\n",
    "    if not re.findall(phone_pattern, d['content'].encode('utf-8')):\n",
    "        if re.findall(debug_pattern, d['content'].encode('utf-8')):\n",
    "            for bug in re.findall(debug_pattern, d['content'].encode('utf-8')):\n",
    "                print bug"
   ]
  },
  {
   "cell_type": "code",
   "execution_count": 134,
   "metadata": {
    "collapsed": false
   },
   "outputs": [
    {
     "name": "stdout",
     "output_type": "stream",
     "text": [
      "['\\xef\\xbc\\x90\\xef\\xbc\\x91\\xef\\xbc\\x92\\xef\\xbc\\x93\\xef\\xbc\\x94\\xef\\xbc\\x95\\xef\\xbc\\x96\\xef\\xbc\\x97\\xef\\xbc\\x98\\xef\\xbc\\x99']\n"
     ]
    }
   ],
   "source": [
    "print ['０１２３４５６７８９']"
   ]
  },
  {
   "cell_type": "code",
   "execution_count": 127,
   "metadata": {
    "collapsed": false
   },
   "outputs": [
    {
     "name": "stdout",
     "output_type": "stream",
     "text": [
      "電話\n"
     ]
    }
   ],
   "source": [
    "print re.findall(phone_pattern, data[100]['content'].encode('utf-8'))"
   ]
  },
  {
   "cell_type": "code",
   "execution_count": 64,
   "metadata": {
    "collapsed": false
   },
   "outputs": [
    {
     "data": {
      "text/plain": [
       "[]"
      ]
     },
     "execution_count": 64,
     "metadata": {},
     "output_type": "execute_result"
    }
   ],
   "source": [
    "re.findall(phone_pattern, json.dumps(data[100]['content'], ensure_ascii=False))"
   ]
  },
  {
   "cell_type": "code",
   "execution_count": 67,
   "metadata": {
    "collapsed": false
   },
   "outputs": [
    {
     "name": "stdout",
     "output_type": "stream",
     "text": [
      "\"<p><span style=\\\"font-family: 'comic sans ms', sans-serif; font-size: 14pt; color: #000000;\\\">♘<span style=\\\"color: #ff6600;\\\">♖</span>♘<span style=\\\"color: #ff6600;\\\">♖</span>♘<span style=\\\"color: #ff6600;\\\">♖</span><strong>Tame Moose</strong>♘<span style=\\\"color: #ff6600;\\\">♖</span>♘<span style=\\\"color: #ff6600;\\\">♖</span>♘<span style=\\\"color: #ff6600;\\\">♖</span></span><br /><img title=\\\"cats.jpg\\\" src=\\\"http://pic.pimg.tw/joyaijia/1428597064-1813900297_n.jpg\\\" alt=\\\"cats.jpg\\\" border=\\\"0\\\" /> &nbsp;&nbsp;&nbsp;</p>\\r\\n<p><span style=\\\"color: #000000;\\\">♕ 雙手奉上店家資訊 ♛</span><br /><span style=\\\"color: #000000;\\\">地址：台北市大同區建泰里南京西路18巷6弄6號1樓</span><br /><span style=\\\"color: #000000;\\\">交通方式：從捷運中山站一號出口，牛乳大王巷口走進去，第二條巷子就看得到囉</span><br /><span style=\\\"color: #000000;\\\">營業時間：週二～週日11：-00～23：00</span><br /><span style=\\\"color: #000000;\\\">店家電話：2556-5908</span><br /><span style=\\\"color: #000000;\\\">有無收取服務費：Yes</span><br /><span style=\\\"color: #000000;\\\">有無提供Wifi：Yes</span><br /><span style=\\\"color: #000000;\\\">店家FB：<strong><span style=\\\"color: #0000ff; background-color: #ffff00;\\\"><a href=\\\"https://www.facebook.com/tamemoose\\\"><span style=\\\"color: #0000ff; background-color: #ffff00;\\\">在這裡</span></a></span></strong><br /><br /><img src=\\\"//s.pixfs.net/f.pixnet.net/images/emotions/021.gif\\\" alt=\\\"\\\" border=\\\"0\\\" />歡迎來找大食女，跟我一起分享好吃、好玩的呦<img src=\\\"//s.pixfs.net/f.pixnet.net/images/emotions/020.gif\\\" alt=\\\"\\\" border=\\\"0\\\" /><br /><a href=\\\"https://www.facebook.com/joyaijia\\\"><img title=\\\"FB名片貼\\\" src=\\\"http://pic.pimg.tw/joyaijia/1417004066-573800683.png\\\" alt=\\\"FB名片貼\\\" width=\\\"163\\\" height=\\\"225\\\" border=\\\"0\\\" /></a> &nbsp;<a href=\\\"https://instagram.com/iamteresa0424/\\\"><img title=\\\"下載\\\" src=\\\"http://pic.pimg.tw/joyaijia/1417004066-374013419.jpg\\\" alt=\\\"下載\\\" width=\\\"161\\\" height=\\\"161\\\" border=\\\"0\\\" /></a> &nbsp;<br /><br />大食女上次到<img src=\\\"//s.pixfs.net/f.pixnet.net/images/emotions/032.gif\\\" alt=\\\"\\\" border=\\\"0\\\" /><strong><span style=\\\"color: #0000ff; background-color: #ffff00;\\\"><a href=\\\"http://joyaijia.pixnet.net/blog/post/264239305\\\"><span style=\\\"color: #0000ff; background-color: #ffff00;\\\">樂卷</span></a></span></strong><img src=\\\"//s.pixfs.net/f.pixnet.net/images/emotions/032.gif\\\" alt=\\\"\\\" border=\\\"0\\\" />用餐時，就看到對面有家新開幕的<span style=\\\"background-color: #ffff99;\\\">工業風</span>小店(大食女非常尬藝這種風格的店家～<br />之後又看到幾位格友的分享文，讓大食女趕緊找個假日，跟妹妹來朝聖一下啦！xDD<br />Tame moose交通上可說是相當方便，從中山捷運站一號出口出站後，步行約三分鐘就可抵達囉！<br /><img title=\\\"DSC02788.jpg\\\" src=\\\"http://pic.pimg.tw/joyaijia/1428597088-4216870796_n.jpg\\\" alt=\\\"DSC02788.jpg\\\" border=\\\"0\\\" /> &nbsp;<br /><br /><a href=\\\"http://joyaijia.pixnet.net/album/photo/586694383\\\"><img title=\\\"DSC02795.jpg\\\" src=\\\"http://pic.pimg.tw/joyaijia/1428597090-2749857907_n.jpg\\\" alt=\\\"DSC02795.jpg\\\" border=\\\"0\\\" /></a> &nbsp;<br /><br />門把以水管樣式呈現，其實大食女更想轉轉看那龍頭開關(喂xD<br /><a href=\\\"http://joyaijia.pixnet.net/album/photo/586694413\\\"><img title=\\\"DSC02801.jpg\\\" src=\\\"http://pic.pimg.tw/joyaijia/1428597091-1959463415_n.jpg\\\" alt=\\\"DSC02801.jpg\\\" border=\\\"0\\\" /></a> &nbsp;<br /><br />一進入店內，馬上感受到濃濃的工業風<br />大食女跟妹妹當天約一點半到店用餐，阿娘威...這郎客可說是滿滿滿阿(驚)！！<br /><a href=\\\"http://joyaijia.pixnet.net/album/photo/586694398\\\"><img title=\\\"DSC0001.jpg\\\" src=\\\"http://pic.pimg.tw/joyaijia/1428597093-3907744008_n.jpg\\\" alt=\\\"DSC0001.jpg\\\" border=\\\"0\\\" /></a> &nbsp;<br /><br /><a href=\\\"http://joyaijia.pixnet.net/album/photo/586694404\\\"><img title=\\\"DSC00002.jpg\\\" src=\\\"http://pic.pimg.tw/joyaijia/1428597094-2453832545_n.jpg\\\" alt=\\\"DSC00002.jpg\\\" border=\\\"0\\\" /></a> &nbsp;<br /><br />玻璃窗旁的座位，讓大食女相當尬藝<br />冷冽的灰水泥牆，因著自然撒入的陽光、及暖色系吊燈，讓整個視角不再冷冰冰，反倒更顯另種溫馨愜意<br /><a href=\\\"http://joyaijia.pixnet.net/album/photo/586694458\\\"><img title=\\\"DSC00005.jpg\\\" src=\\\"http://pic.pimg.tw/joyaijia/1428597096-3322961773_n.jpg\\\" alt=\\\"DSC00005.jpg\\\" border=\\\"0\\\" /></a> &nbsp;<br /><br /><a href=\\\"http://joyaijia.pixnet.net/album/photo/586694419\\\"><img title=\\\"DSC00006.jpg\\\" src=\\\"http://pic.pimg.tw/joyaijia/1428597097-3934663183_n.jpg\\\" alt=\\\"DSC00006.jpg\\\" border=\\\"0\\\" /></a> &nbsp;<br /><br /><a href=\\\"http://joyaijia.pixnet.net/album/photo/586694434\\\"><img title=\\\"DSC00008.jpg\\\" src=\\\"http://pic.pimg.tw/joyaijia/1428597098-2653841842_n.jpg\\\" alt=\\\"DSC00008.jpg\\\" border=\\\"0\\\" /></a> &nbsp;<br /><br />繽紛的鐵桌及鐵椅，為整間店注入股清新活力氣息<br /><a href=\\\"http://joyaijia.pixnet.net/album/photo/586694470\\\"><img title=\\\"DSC00033.jpg\\\" src=\\\"http://pic.pimg.tw/joyaijia/1428597102-4030942095_n.jpg\\\" alt=\\\"DSC00033.jpg\\\" border=\\\"0\\\" /></a> &nbsp;<br /><br /><a href=\\\"http://joyaijia.pixnet.net/album/photo/586694440\\\"><img title=\\\"DSC00030.jpg\\\" src=\\\"http://pic.pimg.tw/joyaijia/1428597100-721236092_n.jpg\\\" alt=\\\"DSC00030.jpg\\\" border=\\\"0\\\" /></a> &nbsp;<br /><br /><a href=\\\"http://joyaijia.pixnet.net/album/photo/586694455\\\"><img title=\\\"DSC00032.jpg\\\" src=\\\"http://pic.pimg.tw/joyaijia/1428597101-869632905_n.jpg\\\" alt=\\\"DSC00032.jpg\\\" border=\\\"0\\\" /></a> &nbsp;<br /><br />櫃台的設計，更是巧思別具<br />將各式酒瓶置於鐵網內，可說是將工業風展現的淋漓盡致阿！(讓大食女當天駐足觀看了許久～<br /><a href=\\\"http://joyaijia.pixnet.net/album/photo/586694491\\\"><img title=\\\"DSC02004.jpg\\\" src=\\\"http://pic.pimg.tw/joyaijia/1428597107-2681914711_n.jpg\\\" alt=\\\"DSC02004.jpg\\\" border=\\\"0\\\" /></a> &nbsp;<br /><br /><a href=\\\"http://joyaijia.pixnet.net/album/photo/586694500\\\"><img title=\\\"DSC02005.jpg\\\" src=\\\"http://pic.pimg.tw/joyaijia/1428597109-4258934357_n.jpg\\\" alt=\\\"DSC02005.jpg\\\" border=\\\"0\\\" /></a> &nbsp;<br /><br /><a href=\\\"http://joyaijia.pixnet.net/album/photo/586694476\\\"><img title=\\\"DSC002002.jpg\\\" src=\\\"http://pic.pimg.tw/joyaijia/1428597104-2269551453_n.jpg\\\" alt=\\\"DSC002002.jpg\\\" border=\\\"0\\\" /></a> &nbsp;<br /><br />冰櫃內擺著各式啤酒、氣泡水、及蛋糕甜點<br /><a href=\\\"http://joyaijia.pixnet.net/album/photo/586694533\\\"><img title=\\\"DSC02007.jpg\\\" src=\\\"http://pic.pimg.tw/joyaijia/1428597111-1142211349_n.jpg\\\" alt=\\\"DSC02007.jpg\\\" border=\\\"0\\\" /></a> &nbsp;<br /><br />相當可愛繽紛的茶壺<img src=\\\"//s.pixfs.net/f.pixnet.net/images/emotions/021.gif\\\" alt=\\\"\\\" border=\\\"0\\\" /><br /><a href=\\\"http://joyaijia.pixnet.net/album/photo/586694518\\\"><img title=\\\"DSC02008.jpg\\\" src=\\\"http://pic.pimg.tw/joyaijia/1428597112-667050604_n.jpg\\\" alt=\\\"DSC02008.jpg\\\" border=\\\"0\\\" /></a> &nbsp;<br /><br /><a href=\\\"http://joyaijia.pixnet.net/album/photo/586694536\\\"><img title=\\\"DSC02010.jpg\\\" src=\\\"http://pic.pimg.tw/joyaijia/1428597113-3426522048_n.jpg\\\" alt=\\\"DSC02010.jpg\\\" border=\\\"0\\\" /></a> &nbsp;<br /><br />Tame moose名片以<span style=\\\"background-color: #ffff99;\\\">麋鹿</span>來設計，將它放在小推車裡頭，實在相當卡哇伊阿！！！<br /><a href=\\\"http://joyaijia.pixnet.net/album/photo/586694545\\\"><img title=\\\"DSC02020.jpg\\\" src=\\\"http://pic.pimg.tw/joyaijia/1428597116-1390475468_n.jpg\\\" alt=\\\"DSC02020.jpg\\\" border=\\\"0\\\" /></a> &nbsp;<br /><br /><a href=\\\"http://joyaijia.pixnet.net/album/photo/586694587\\\"><img title=\\\"DSC02022.jpg\\\" src=\\\"http://pic.pimg.tw/joyaijia/1428597118-2986017195_n.jpg\\\" alt=\\\"DSC02022.jpg\\\" border=\\\"0\\\" /></a> &nbsp;<br /><br /><a href=\\\"http://joyaijia.pixnet.net/album/photo/586694575\\\"><img title=\\\"DSC02024.jpg\\\" src=\\\"http://pic.pimg.tw/joyaijia/1428597120-3207909978_n.jpg\\\" alt=\\\"DSC02024.jpg\\\" border=\\\"0\\\" /></a> &nbsp;<br /><br />店內空間採狹長式設計，水泥地板配上這斑駁紅磚牆面設計，可說是瀰漫股濃濃loft風<br /><a href=\\\"http://joyaijia.pixnet.net/album/photo/586694584\\\"><img title=\\\"DSC02040.jpg\\\" src=\\\"http://pic.pimg.tw/joyaijia/1428597122-1652127125_n.jpg\\\" alt=\\\"DSC02040.jpg\\\" border=\\\"0\\\" /></a> &nbsp;<br /><br /><a href=\\\"http://joyaijia.pixnet.net/album/photo/586694599\\\"><img title=\\\"DSC02050.jpg\\\" src=\\\"http://pic.pimg.tw/joyaijia/1428597124-339094290_n.jpg\\\" alt=\\\"DSC02050.jpg\\\" border=\\\"0\\\" /></a> &nbsp;<br /><br /><a href=\\\"http://joyaijia.pixnet.net/album/photo/586694626\\\"><img title=\\\"DSC02923.jpg\\\" src=\\\"http://pic.pimg.tw/joyaijia/1428597125-4187455535_n.jpg\\\" alt=\\\"DSC02923.jpg\\\" border=\\\"0\\\" /></a> &nbsp;<br /><br />大食女相當喜歡這盞復古工業風的電扇造型壁燈<br /><a href=\\\"http://joyaijia.pixnet.net/album/photo/586694620\\\"><img title=\\\"DSC04012.jpg\\\" src=\\\"http://pic.pimg.tw/joyaijia/1428597127-523818022_n.jpg\\\" alt=\\\"DSC04012.jpg\\\" border=\\\"0\\\" /></a> &nbsp;<br /><br /><a href=\\\"http://joyaijia.pixnet.net/album/photo/586694632\\\"><img title=\\\"DSC04018.jpg\\\" src=\\\"http://pic.pimg.tw/joyaijia/1428597129-3544827723_n.jpg\\\" alt=\\\"DSC04018.jpg\\\" border=\\\"0\\\" /></a> &nbsp;<br /><br /><a href=\\\"http://joyaijia.pixnet.net/album/photo/586694623\\\"><img title=\\\"DSC04014.jpg\\\" src=\\\"http://pic.pimg.tw/joyaijia/1428597128-3553462857_n.jpg\\\" alt=\\\"DSC04014.jpg\\\" border=\\\"0\\\" /></a> &nbsp;<br /><br /><a href=\\\"http://joyaijia.pixnet.net/album/photo/586694641\\\"><img title=\\\"DSC04020.jpg\\\" src=\\\"http://pic.pimg.tw/joyaijia/1428597131-1708169273_n.jpg\\\" alt=\\\"DSC04020.jpg\\\" border=\\\"0\\\" /></a> &nbsp;<br /><br />唉呀，工業風店家，總是讓大食女失控地相機咔咔咔個不停xDDD<br />拍到肚子咕嚕咕嚕叫啦！！趕緊坐定位準備來點餐囉^^<br />Tame moose餐點可說是相當多樣，從早午餐、義大利麵、燉飯、漢堡、到焙鍋鬆餅，可說是應有盡有阿！！大食女當天實在看menu看到眼花撩亂@@ 索性直接請店員為我們推薦幾道招牌餐點啦xDD<br /><a href=\\\"http://joyaijia.pixnet.net/album/photo/586695241\\\"><img title=\\\"DSC02888.jpg\\\" src=\\\"http://pic.pimg.tw/joyaijia/1428597189-596207146_n.jpg\\\" alt=\\\"DSC02888.jpg\\\" border=\\\"0\\\" /></a> &nbsp;<br /><br />等餐同時，大食女馬上找小麋鹿們來玩玩xDDD 怎麼會有這麼可愛的名片啦！！(尖叫<img src=\\\"//s.pixfs.net/f.pixnet.net/images/emotions/012.gif\\\" alt=\\\"\\\" border=\\\"0\\\" /><br /><a href=\\\"http://joyaijia.pixnet.net/album/photo/586695175\\\"><img title=\\\"DSC03009.jpg\\\" src=\\\"http://pic.pimg.tw/joyaijia/1428597184-383455628_n.jpg\\\" alt=\\\"DSC03009.jpg\\\" border=\\\"0\\\" /></a> &nbsp;<br /><br /><a href=\\\"http://joyaijia.pixnet.net/album/photo/586695196\\\"><img title=\\\"DSC03014.jpg\\\" src=\\\"http://pic.pimg.tw/joyaijia/1428597186-1460528507_n.jpg\\\" alt=\\\"DSC03014.jpg\\\" border=\\\"0\\\" /></a> &nbsp;<br /><br />拿著酒瓶的小麋鹿，就好像在跟大食女說：來來來，猴搭啦～～～(乾杯！)<br /><a href=\\\"http://joyaijia.pixnet.net/album/photo/586695211\\\"><img title=\\\"DSC03473.jpg\\\" src=\\\"http://pic.pimg.tw/joyaijia/1428597187-3489519188_n.jpg\\\" alt=\\\"DSC03473.jpg\\\" border=\\\"0\\\" /></a> &nbsp;<br /><br />唉呀，跟這麼可愛的小麋鹿乾杯，大食女只想說\\\"我願意阿\\\"xDDDD<br /><a href=\\\"http://joyaijia.pixnet.net/album/photo/586695217\\\"><img title=\\\"SHOW_20150408_205728_-1.jpg\\\" src=\\\"http://pic.pimg.tw/joyaijia/1428597188-766944772_n.jpg\\\" alt=\\\"SHOW_20150408_205728_-1.jpg\\\" border=\\\"0\\\" /></a> &nbsp;<br /><br />等候約十分鐘，今天打頭陣登場的是<img src=\\\"//s.pixfs.net/f.pixnet.net/images/emotions/032.gif\\\" alt=\\\"\\\" border=\\\"0\\\" />紅酒燉牛肉義大利扁麵&nbsp;<img src=\\\"//s.pixfs.net/f.pixnet.net/images/emotions/032.gif\\\" alt=\\\"\\\" border=\\\"0\\\" />&nbsp;$320<br /><a href=\\\"http://joyaijia.pixnet.net/album/photo/586694647\\\"><img title=\\\"DSC03071.jpg\\\" src=\\\"http://pic.pimg.tw/joyaijia/1428597132-2823103280_n.jpg\\\" alt=\\\"DSC03071.jpg\\\" border=\\\"0\\\" /></a> &nbsp;<br /><br />麋鹿表示：我也想吃(飛奔～～～)<br /><a href=\\\"http://joyaijia.pixnet.net/album/photo/586694653\\\"><img title=\\\"DSC03082.jpg\\\" src=\\\"http://pic.pimg.tw/joyaijia/1428597134-2734934632_n.jpg\\\" alt=\\\"DSC03082.jpg\\\" border=\\\"0\\\" /></a> &nbsp;<br /><br />其實店員將餐點端上桌時，大食女還蠻訝異的<img src=\\\"//s.pixfs.net/f.pixnet.net/images/emotions/omg_smile.gif\\\" alt=\\\"\\\" border=\\\"0\\\" /><br />之前吃到的紅酒燉牛肉義大利麵都是直接將麵拌入湯汁內，還真是頭一次看到這樣\\\"分離式\\\"的烹調方式呢！<br /><a href=\\\"http://joyaijia.pixnet.net/album/photo/586694659\\\"><img title=\\\"DSC03113.jpg\\\" src=\\\"http://pic.pimg.tw/joyaijia/1428597135-2617210435_n.jpg\\\" alt=\\\"DSC03113.jpg\\\" border=\\\"0\\\" /></a> &nbsp;<br /><br />牛肉給得很大氣，約五～六大塊，旁邊另有兩塊法國麵包(阿，拍謝...一塊已經在大食女巴豆裡了&gt;&lt;)<br />一旁的蘿蔔可說是燉的相當入味軟爛，讓大食妹相當尬藝<br /><a href=\\\"http://joyaijia.pixnet.net/album/photo/586694665\\\"><img title=\\\"DSC03126.jpg\\\" src=\\\"http://pic.pimg.tw/joyaijia/1428597137-3525865750_n.jpg\\\" alt=\\\"DSC03126.jpg\\\" border=\\\"0\\\" /></a> &nbsp;<br /><br />法國麵包沾著醬汁作夥入口，可說是相當好食阿！！<br /><a href=\\\"http://joyaijia.pixnet.net/album/photo/586983655\\\"><img title=\\\"DSC03121.jpg\\\" src=\\\"http://pic.pimg.tw/joyaijia/1428720078-4073346074_n.jpg\\\" alt=\\\"DSC03121.jpg\\\" border=\\\"0\\\" /></a> &nbsp;<br /><br />讓大食女最尬藝的，就是這牛肉了！！燉到軟爛之外、更是相當入味，可說是入口即化阿(醉<img src=\\\"//s.pixfs.net/f.pixnet.net/images/emotions/021.gif\\\" alt=\\\"\\\" border=\\\"0\\\" /><br />紅酒燉牛肉的湯汁屬清爽型的，不會有那種ㄍㄡˊ ㄍㄡ的感覺，吃起來紅酒味偏重、所以微偏酸，跟一般吃到的不太一樣！<br /><img title=\\\"DSC03140\\\" src=\\\"http://pic.pimg.tw/joyaijia/1428719570-2850118184_n.jpg\\\" alt=\\\"DSC03140\\\" border=\\\"0\\\" /> &nbsp;<br /><br />義大利麵選擇以<span style=\\\"background-color: #ffff99;\\\">細扁麵</span>呈現<br /><a href=\\\"http://joyaijia.pixnet.net/album/photo/586694752\\\"><img title=\\\"DSC03128.jpg\\\" src=\\\"http://pic.pimg.tw/joyaijia/1428597139-4263952307_n.jpg\\\" alt=\\\"DSC03128.jpg\\\" border=\\\"0\\\" /></a> &nbsp;<br /><br />並不像一般義大利麵，將麵直接泡在湯汁裡頭，所以大食女一拍完照，立馬跟妹妹火速開吃xDD 超怕它乾掉...&gt;&lt;<br /><a href=\\\"http://joyaijia.pixnet.net/album/photo/586694686\\\"><img title=\\\"DSC03211.jpg\\\" src=\\\"http://pic.pimg.tw/joyaijia/1428597140-2626561803_n.jpg\\\" alt=\\\"DSC03211.jpg\\\" border=\\\"0\\\" /></a> &nbsp;<br /><br />但其實也可將麵條泡到一旁的牛肉湯汁裡頭，吸飽了紅酒牛肉湯汁的義大利麵更好食了！<br />扁麵吃起來口感Q彈，是咬得到麵心那種(大食女超怕那種軟爛過了頭的義大利麵...)，所以這麵條可說是相當合大食女胃口^____^<br /><a href=\\\"http://joyaijia.pixnet.net/album/photo/586694713\\\"><img title=\\\"DSC03219.jpg\\\" src=\\\"http://pic.pimg.tw/joyaijia/1428597141-2802238388_n.jpg\\\" alt=\\\"DSC03219.jpg\\\" border=\\\"0\\\" /></a> &nbsp;<br /><br /><img src=\\\"//s.pixfs.net/f.pixnet.net/images/emotions/032.gif\\\" alt=\\\"\\\" border=\\\"0\\\" />鴨胸班尼迪克蛋仔<img src=\\\"//s.pixfs.net/f.pixnet.net/images/emotions/032.gif\\\" alt=\\\"\\\" border=\\\"0\\\" />&nbsp;$260&nbsp;<br /><a href=\\\"http://joyaijia.pixnet.net/album/photo/586694755\\\"><img title=\\\"DSC03202.jpg\\\" src=\\\"http://pic.pimg.tw/joyaijia/1428597143-3080351199_n.jpg\\\" alt=\\\"DSC03202.jpg\\\" border=\\\"0\\\" /></a> &nbsp;<br /><br />大食女完全是<span style=\\\"background-color: #ffff99;\\\">水波蛋重度成癮者</span>！！來餐廳不點它，就渾身不對勁阿！！(咦？！這是種症頭嗎xD)<br />但在此也要提醒各位捧油們，蛋黃哥餐點假日時段只供應到下午三點呦～太晚來就沒啦xD<br /><a href=\\\"http://joyaijia.pixnet.net/album/photo/586694764\\\"><img title=\\\"DSC03225.jpg\\\" src=\\\"http://pic.pimg.tw/joyaijia/1428597144-529722064_n.jpg\\\" alt=\\\"DSC03225.jpg\\\" border=\\\"0\\\" /></a> &nbsp;<br /><br />看著那ㄉㄨㄞ ㄉㄨㄞ的水波蛋，讓大食女簡直要凍抹條阿...<br /><a href=\\\"http://joyaijia.pixnet.net/album/photo/586694773\\\"><img title=\\\"DSC03263.jpg\\\" src=\\\"http://pic.pimg.tw/joyaijia/1428597146-3248795046_n.jpg\\\" alt=\\\"DSC03263.jpg\\\" border=\\\"0\\\" /></a> &nbsp;<br /><br /><a href=\\\"http://joyaijia.pixnet.net/album/photo/586694779\\\"><img title=\\\"DSC03267.jpg\\\" src=\\\"http://pic.pimg.tw/joyaijia/1428597147-257082356_n.jpg\\\" alt=\\\"DSC03267.jpg\\\" border=\\\"0\\\" /></a> &nbsp;<br /><br />那吹彈可破的樣子，讓大食女好想偷拿叉子戳它一下xD<br /><a href=\\\"http://joyaijia.pixnet.net/album/photo/586694794\\\"><img title=\\\"DSC03268.jpg\\\" src=\\\"http://pic.pimg.tw/joyaijia/1428597148-1287254503_n.jpg\\\" alt=\\\"DSC03268.jpg\\\" border=\\\"0\\\" /></a> &nbsp;<br /><br />來來來，馬上來解剖吧！！！(磨刀霍霍<br /><a href=\\\"http://joyaijia.pixnet.net/album/photo/586694803\\\"><img title=\\\"DSC03308.jpg\\\" src=\\\"http://pic.pimg.tw/joyaijia/1428597149-1998967351_n.jpg\\\" alt=\\\"DSC03308.jpg\\\" border=\\\"0\\\" /></a> &nbsp;<br /><br />(要出來了...要出來了...!!!)大食妹不斷在旁邊嚷嚷xDDD<br /><a href=\\\"http://joyaijia.pixnet.net/album/photo/586694818\\\"><img title=\\\"DSC03315.jpg\\\" src=\\\"http://pic.pimg.tw/joyaijia/1428597151-611027890_n.jpg\\\" alt=\\\"DSC03315.jpg\\\" border=\\\"0\\\" /></a> &nbsp;<br /><br />OMG...這就是大食女最期待的一刻！！！看著那潺潺流出的金黃蛋液...簡直讓人high到最高點阿！！！(歡呼yahooooo～～～<br /><a href=\\\"http://joyaijia.pixnet.net/album/photo/586694827\\\"><img title=\\\"DSC03319.jpg\\\" src=\\\"http://pic.pimg.tw/joyaijia/1428597152-2809977843_n.jpg\\\" alt=\\\"DSC03319.jpg\\\" border=\\\"0\\\" /></a> &nbsp;<br /><br />Q嫩飽滿的的班尼迪克蛋搭上馬芬麵包～蛋的柔順香醇跟麵包的扎實Q彈，可說是相得益彰！！合拍度百分百阿！！(尖叫<br /><a href=\\\"http://joyaijia.pixnet.net/album/photo/586694839\\\"><img title=\\\"DSC03406.jpg\\\" src=\\\"http://pic.pimg.tw/joyaijia/1428597154-3048270406_n.jpg\\\" alt=\\\"DSC03406.jpg\\\" border=\\\"0\\\" /></a> &nbsp;<br /><br />班尼迪克蛋可選擇搭配不同肉品，像是鮭魚、鴨肉等，這次大食女跟妹妹則是選擇後者<br />煙燻後的鴨胸吃起來口感偏硬了些，少了那種juicy的感覺&gt;&lt; 但搭著Q軟的班尼迪克蛋作夥入口，就好似為班尼迪克蛋添了另種口感～<br /><a href=\\\"http://joyaijia.pixnet.net/album/photo/586694845\\\"><img title=\\\"DSC03415.jpg\\\" src=\\\"http://pic.pimg.tw/joyaijia/1428597155-1635288940_n.jpg\\\" alt=\\\"DSC03415.jpg\\\" border=\\\"0\\\" /></a>&nbsp;&nbsp;<br /><br />薯條外層炸至酥香，咬下去會咔滋咔滋地，裡頭卻相當鬆軟，讓大食女馬上將它完食xDD<br /><a href=\\\"http://joyaijia.pixnet.net/album/photo/586694851\\\"><img title=\\\"DSC04243.jpg\\\" src=\\\"http://pic.pimg.tw/joyaijia/1428597156-1297312186_n.jpg\\\" alt=\\\"DSC04243.jpg\\\" border=\\\"0\\\" /></a> &nbsp;<br /><br /><img src=\\\"//s.pixfs.net/f.pixnet.net/images/emotions/032.gif\\\" alt=\\\"\\\" border=\\\"0\\\" />法式蒙巴納熱可可<img src=\\\"//s.pixfs.net/f.pixnet.net/images/emotions/032.gif\\\" alt=\\\"\\\" border=\\\"0\\\" />&nbsp;$140<br /><a href=\\\"http://joyaijia.pixnet.net/album/photo/586694863\\\"><img title=\\\"DSC03143.jpg\\\" src=\\\"http://pic.pimg.tw/joyaijia/1428597159-3548733199_n.jpg\\\" alt=\\\"DSC03143.jpg\\\" border=\\\"0\\\" /></a> &nbsp;&nbsp;&nbsp;<br /><br />以法式手法熱蒸蒙巴納可可歐蕾，並在上頭佐以oreo碎片及棉花糖點綴<br /><a href=\\\"http://joyaijia.pixnet.net/album/photo/586694878\\\"><img title=\\\"DSC03166.jpg\\\" src=\\\"http://pic.pimg.tw/joyaijia/1428597160-729376843_n.jpg\\\" alt=\\\"DSC03166.jpg\\\" border=\\\"0\\\" /></a> &nbsp;<br /><br />微融在熱可可裡的棉花糖、搭著oreo碎片作夥入口，讓人幸福指數瞬間破表阿！！！(醉<img src=\\\"//s.pixfs.net/f.pixnet.net/images/emotions/021.gif\\\" alt=\\\"\\\" border=\\\"0\\\" /><br />熱可可味道濃醇，喝起來相當順口，在這冷冷的天來一杯，實在暖心阿～～～<br /><a href=\\\"http://joyaijia.pixnet.net/album/photo/586694917\\\"><img title=\\\"DSC03192.jpg\\\" src=\\\"http://pic.pimg.tw/joyaijia/1428597162-3240906162_n.jpg\\\" alt=\\\"DSC03192.jpg\\\" border=\\\"0\\\" /></a> &nbsp;<br /><br /><img src=\\\"//s.pixfs.net/f.pixnet.net/images/emotions/032.gif\\\" alt=\\\"\\\" border=\\\"0\\\" />拿鐵<img src=\\\"//s.pixfs.net/f.pixnet.net/images/emotions/032.gif\\\" alt=\\\"\\\" border=\\\"0\\\" />&nbsp;$140<br /><a href=\\\"http://joyaijia.pixnet.net/album/photo/586694896\\\"><img title=\\\"DSC03799.jpg\\\" src=\\\"http://pic.pimg.tw/joyaijia/1428597163-3193474321_n.jpg\\\" alt=\\\"DSC03799.jpg\\\" border=\\\"0\\\" /></a> &nbsp;<br /><br />小鹿你不要只喝必魯嘛～來杯咖啡換換口味阿(眨眼<br /><a href=\\\"http://joyaijia.pixnet.net/album/photo/586694908\\\"><img title=\\\"DSC03892.jpg\\\" src=\\\"http://pic.pimg.tw/joyaijia/1428597164-1421068354_n.jpg\\\" alt=\\\"DSC03892.jpg\\\" border=\\\"0\\\" /></a> &nbsp;<br /><br />大食女完全是個視覺主義者，感覺有拉花的咖啡，就是不一樣！！(哪門子歪理xDD<br />美麗的拉花，讓大食女好捨不得破壞它...只能幫它多拍幾張照片留念了(笑<br /><a href=\\\"http://joyaijia.pixnet.net/album/photo/586694923\\\"><img title=\\\"DSC03898.jpg\\\" src=\\\"http://pic.pimg.tw/joyaijia/1428597166-393261099_n.jpg\\\" alt=\\\"DSC03898.jpg\\\" border=\\\"0\\\" /></a> &nbsp;<br /><br />上頭的拉花可說是整杯咖啡最甜的地方，咖啡色拉花處喝起來，帶有種微甜的巧克力香<br />但拿鐵本身味道稍稍淡了些，如果咖啡味再濃烈點，會更好喝～<br /><a href=\\\"http://joyaijia.pixnet.net/album/photo/586695025\\\"><img title=\\\"DSC03899.jpg\\\" src=\\\"http://pic.pimg.tw/joyaijia/1428597167-3114783562_n.jpg\\\" alt=\\\"DSC03899.jpg\\\" border=\\\"0\\\" /></a> &nbsp;<br /><br />本日壓軸<img src=\\\"//s.pixfs.net/f.pixnet.net/images/emotions/032.gif\\\" alt=\\\"\\\" border=\\\"0\\\" />繽紛莓果焙鍋鬆餅<img src=\\\"//s.pixfs.net/f.pixnet.net/images/emotions/032.gif\\\" alt=\\\"\\\" border=\\\"0\\\" />&nbsp;$240<br /><a href=\\\"http://joyaijia.pixnet.net/album/photo/586694962\\\"><img title=\\\"DSC0000.jpg\\\" src=\\\"http://pic.pimg.tw/joyaijia/1428597168-2116635901_n.jpg\\\" alt=\\\"DSC0000.jpg\\\" border=\\\"0\\\" /></a> &nbsp;<br /><br />焙鍋鬆餅都是現點現做，所以皆須稍加等候個15~20分，但為了它...大食女 絕 對 願 意！！！(大聲說<br />鬆餅上頭佐以新鮮草莓、及<strong><span style=\\\"text-decoration: underline;\\\">師傅<span style=\\\"background-color: #fbcff7;\\\">親自熬製的多種莓果醬</span></span></strong>(是真的看得到莓果顆粒餒!!!)、並大氣的放入球<span style=\\\"background-color: #fbcff7;\\\">meiji草莓冰淇淋</span>，最後再放上個小領結裝飾，天阿！！這叫人怎能不失心瘋啦&gt;&lt;<br /><a href=\\\"http://joyaijia.pixnet.net/album/photo/586694983\\\"><img title=\\\"DSC00003.jpg\\\" src=\\\"http://pic.pimg.tw/joyaijia/1428597170-357822392_n.jpg\\\" alt=\\\"DSC00003.jpg\\\" border=\\\"0\\\" /></a> &nbsp;<br /><br />這麼可愛的甜點一上桌...馬上讓大食女跟妹妹失控了&gt;&lt;<br /><a href=\\\"http://joyaijia.pixnet.net/album/photo/586696402\\\"><img title=\\\"2015-04-08-21-03-12_deco.jpg\\\" src=\\\"http://pic.pimg.tw/joyaijia/1428597326-2777968332_n.jpg\\\" alt=\\\"2015-04-08-21-03-12_deco.jpg\\\" border=\\\"0\\\" /></a> &nbsp;<br /><br />泥砍看～泥砍看，由店家特製的kinfolk糖霜領結，是不是超卡哇伊！！！(女生們應該都會陷入瘋狂，拿起來狂拍xDDD<br /><a href=\\\"http://joyaijia.pixnet.net/album/photo/586695037\\\"><img title=\\\"DSC00020.jpg\\\" src=\\\"http://pic.pimg.tw/joyaijia/1428597174-481653311_n.jpg\\\" alt=\\\"DSC00020.jpg\\\" border=\\\"0\\\" /></a> &nbsp;<br /><br />小蝴蝶結其實就像進擊版的蜜糖吐司，造型更可愛迷人外、口感上也明顯較硬了些(是大食妹很愛的酥香口感)，而上頭的糖霜是吃得到顆粒的，甜而不膩的滋味叫女生怎能不愛啦！(扭扭扭<br />但像大食女本身比較尬藝濕潤口感的蜜糖吐司，所以總覺得小蝴蝶結如果能再軟Q點，就真的幾霸婚啦！<br /><a href=\\\"http://joyaijia.pixnet.net/album/photo/586695061\\\"><img title=\\\"DSC00022.jpg\\\" src=\\\"http://pic.pimg.tw/joyaijia/1428597175-3495603809_n.jpg\\\" alt=\\\"DSC00022.jpg\\\" border=\\\"0\\\" /></a> &nbsp;<br /><br />這麼好吃的甜點，小鹿當然也要來湊一腳(喂xD<br />大食女覺得，這焙鍋鬆餅最特別的地方，就在於<span style=\\\"background-color: #ffff99;\\\">外層的鬆餅皮</span><br /><a href=\\\"http://joyaijia.pixnet.net/album/photo/586695019\\\"><img title=\\\"DSC00012.jpg\\\" src=\\\"http://pic.pimg.tw/joyaijia/1428597173-930406437_n.jpg\\\" alt=\\\"DSC00012.jpg\\\" border=\\\"0\\\" /></a> &nbsp;<br /><br />大食女平常就是個鬆餅愛好者，平常最愛吃那種<span style=\\\"background-color: #ffff99;\\\"><strong><span style=\\\"text-decoration: underline;\\\">外酥內軟</span></strong>的鬆餅</span>！！<br /><span style=\\\"text-decoration: underline;\\\"><strong><span style=\\\"background-color: #ffcc99;\\\">焙鍋鬆餅</span></strong>可說是將外酥內軟的特性，表現得淋漓盡致阿</span>！！！鬆餅裡頭吃起來鬆軟，但外皮卻又帶種<span style=\\\"background-color: #ffff99;\\\">可麗餅的焦香味</span>，這介於可麗餅跟舒芙蕾間的口感，完全把大食女給征服啦...<br /><a href=\\\"http://joyaijia.pixnet.net/album/photo/586695283\\\"><img title=\\\"DSC09977.jpg\\\" src=\\\"http://pic.pimg.tw/joyaijia/1428597182-2985343240_n.jpg\\\" alt=\\\"DSC09977.jpg\\\" border=\\\"0\\\" /></a> &nbsp;<br /><br />強烈建議捧油們可以扒口什麼都不沾的鬆餅皮試試，更可吃出鬆餅本身的蛋奶清香，好好食阿！！<br /><a href=\\\"http://joyaijia.pixnet.net/album/photo/586695160\\\"><img title=\\\"DSC09999.jpg\\\" src=\\\"http://pic.pimg.tw/joyaijia/1428597183-3103042536_n.jpg\\\" alt=\\\"DSC09999.jpg\\\" border=\\\"0\\\" /></a> &nbsp;<br /><br />阿，在此也要提醒捧油們，由於剛從烤箱拿出來的焙鍋鬆餅還是燒燙燙的，更加速了上頭冰淇淋的融化速度...大食女跟妹妹當天就是不小心玩了太久，導致整個冰都融化了(汗<br /><a href=\\\"http://joyaijia.pixnet.net/album/photo/586695088\\\"><img title=\\\"DSC03604.jpg\\\" src=\\\"http://pic.pimg.tw/joyaijia/1428597177-343144713_n.jpg\\\" alt=\\\"DSC03604.jpg\\\" border=\\\"0\\\" /></a> &nbsp;<br /><br />趕緊切塊來嚐嚐囉！！<br /><a href=\\\"http://joyaijia.pixnet.net/album/photo/586695154\\\"><img title=\\\"DSC09000.jpg\\\" src=\\\"http://pic.pimg.tw/joyaijia/1428597178-4193704883_n.jpg\\\" alt=\\\"DSC09000.jpg\\\" border=\\\"0\\\" /></a> &nbsp;<br /><br />外酥內軟的鬆餅，搭上酸V酸V的莓果醬及草莓，真是融化人心阿(暈<br />雖然大食女的草莓冰淇淋已經融化了...但微冰沁涼滋味、搭上溫熱的鬆餅，這冷熱交融的口感，讓大食女好是喜歡！相當推薦的一道甜點阿！！<img src=\\\"//s.pixfs.net/f.pixnet.net/images/emotions/017.gif\\\" alt=\\\"\\\" border=\\\"0\\\" /><br /><a href=\\\"http://joyaijia.pixnet.net/album/photo/586695121\\\"><img title=\\\"DSC09002.jpg\\\" src=\\\"http://pic.pimg.tw/joyaijia/1428597180-2075211873_n.jpg\\\" alt=\\\"DSC09002.jpg\\\" border=\\\"0\\\" /></a> &nbsp;<br /><br />酒足飯飽後，又到了大食女打分數時間啦<img src=\\\"//s.pixfs.net/f.pixnet.net/images/emotions/034.gif\\\" alt=\\\"\\\" border=\\\"0\\\" /> &nbsp;<br /><span style=\\\"color: #ff0000;\\\">✔</span>上餐速度<br />就此次用餐經驗，除了焙鍋鬆餅等候較久之外，其他餐點上餐速度都可說是相當適中，不會等太久～<br /><span style=\\\"color: #ff0000;\\\">✔</span>服務生態度<br />店內服務生態度可說是相當親切！時時將笑容掛在臉上之外、餐點介紹得也很詳細，且會主動發現郎客們需求，就大食女用餐當天，桌上衛生紙只要用完，店員便會前來為我們添補，很貼心<br />大食女是利用假日時段至店用餐，覺得比較可惜的地方在於，店內外場人手似乎有點不足，由於當天整個下午郎客可說都是滿滿滿...從大食女進門那刻，到用餐結束，可說是幾乎座無虛席！因此也發現到，有些郎客們要點餐、或有其他需求時，都要向服務生招手好幾次。但看著兩位外場服務生當天雖然陀螺般地忙碌著，卻仍舊笑容滿點、服務完全不打折，讓大食女心中不由得相當佩服！也建議店家可以在這種熱門用餐時段，多找位外場的人來幫忙囉<br /><span style=\\\"color: #ff0000;\\\">✔</span>餐點部分<br />Tame moose的鹹食、及甜點都讓大食女相當滿意，跟店員聊天後才知道，原來位在天母的Kinfolk&nbsp;Cheese &amp; Coffee從四月起，就正式搬遷到中山站與Tame moose合併了！這對大食女來說無疑是一大福音阿！！不用為了\\\"三眼怪嘎逼\\\"特地跑到天母了！！(大食女之前就看過幾位格友分享Kinfolk的三眼怪咖啡，但一直還沒機會朝聖...唉呀天母實在太遠了&gt;&lt;) 這能不歡呼一下嘛xDDD<br />在此更要大力推薦Tame moose的焙鍋鬆餅給各位捧油們，外酥內軟的口感，讓大食女至今仍是回味無窮阿！這次的酸V莓果口味，實在相當impressed，下次一定要來試試鹹口味的焙鍋鬆餅，究竟是蝦款滋味呢～(期待<br /><span style=\\\"color: #ff0000;\\\">✔</span>用餐環境<br />整間店瀰漫股濃濃工業風的Tame moose，是大食女相當尬藝的裝潢風格，且有別於一般工業風店家帶給人冷冰冰的感覺，店內繽紛的桌椅、及暖色系燈飾，都帶給人另種溫馨感，悠閒氣氛讓人好想坐在那待上整個午後阿！<br />阿，在此也想跟捧油們分享，大食女用餐當天，<span style=\\\"text-decoration: underline;\\\">整間店可說是郎客滿滿滿</span>...所以看到不少組客人，因為沒位子，而另尋他處用餐，實在好可惜阿...因此<span style=\\\"text-decoration: underline;\\\">建議捧油們來店用餐前，不妨先訂位吧</span>:-)</span></p>\\r\\n<p><a href=\\\"http://joyaijia.pixnet.net/album/photo/586696405\\\"><img title=\\\"SHOW_20150408_205910_-1.jpg\\\" src=\\\"http://pic.pimg.tw/joyaijia/1428597328-3454363048_n.jpg\\\" alt=\\\"SHOW_20150408_205910_-1.jpg\\\" border=\\\"0\\\" /></a> &nbsp;<br /><br /><span style=\\\"color: #000000;\\\">☺Tame moose真是間讓大食女相當尬藝的好店，舒適用餐環境，讓人想坐在那享受個恬謐靜雅的午後，大食女一定要速速找時間再去朝聖一下三眼怪嘎逼、還有鹹口味的焙鍋鬆餅(期待阿~)！！在此與捧油們分享囉</span><span style=\\\"font-family: arial; font-size: 13px; line-height: 26px;\\\"><span style=\\\"color: #000000;\\\">☺</span><br /><img title=\\\"2008112515157209.jpg\\\" src=\\\"http://pic.pimg.tw/joyaijia/1416733815-3059476508_n.jpg\\\" alt=\\\"2008112515157209.jpg\\\" border=\\\"0\\\" /> &nbsp;<br /></span></p>\\r\\n<p><strong><span style=\\\"color: #3366ff; background-color: #ffffff;\\\">♢&diams;♢&diams;♢少女們不能錯過的好店♢&diams;♢&diams;♢</span></strong><br /><span style=\\\"color: #993300;\\\"><a href=\\\"http://joyaijia.pixnet.net/blog/post/272401696\\\"><span style=\\\"color: #993300;\\\">[食記] 東區-義式 忠孝敦化站 ✿HERDOR Tea House❀ 超夢幻棒棒糖♡甜心晚餐&hearts;花茶♡要少女怎能不失心瘋啦!!!</span></a></span><br /><span style=\\\"color: #993300;\\\"><a href=\\\"http://joyaijia.pixnet.net/blog/post/270792076\\\"><span style=\\\"color: #993300;\\\">[食記] 板橋區 新埔站 ✿The Toast Heaven❀ 約會新選擇♡讓人心花朵朵開的花花吐司早午餐☺(附完整menu)</span></a></span><br /><span style=\\\"color: #993300;\\\"><a href=\\\"http://joyaijia.pixnet.net/blog/post/255221611\\\"><span style=\\\"color: #993300;\\\">[食記] 大安區 信義安和站 ♫蕾蓓蒂比利時鬆餅♪ oh! 隱身在巷弄裡的創意高CP值比利時鬆餅&hearts;(附完整菜單)</span></a></span><br /><span style=\\\"color: #993300;\\\"><a href=\\\"http://joyaijia.pixnet.net/blog/post/242860495\\\"><span style=\\\"color: #993300;\\\">[食記] 信義區 101站 ♡TWG Tea(101店)&hearts; 每個少女都有個TWG公主夢♪ 時尚奢華下午茶在這裡♕</span></a></span><br /><span style=\\\"color: #993300;\\\"><a href=\\\"http://joyaijia.pixnet.net/blog/post/233582833\\\"><span style=\\\"color: #993300;\\\">[食記] 板橋區 捷運板橋站 ♛柏林頓花園(二訪)♕ 起司控絕對不容錯過的下午茶好所在xDD</span></a></span><br /><span style=\\\"color: #993300;\\\"><a href=\\\"http://joyaijia.pixnet.net/blog/post/133635197\\\"><span style=\\\"color: #993300;\\\">[食記] 板橋站 柏林頓花園 ♫煎餅愛好者有福了♪♪(附完整菜單)</span></a></span><br /><span style=\\\"color: #993300;\\\"><a href=\\\"http://joyaijia.pixnet.net/blog/post/266367385\\\"><span style=\\\"color: #993300;\\\">[食記] 信義區 市政府站 ▥No.5 cafe▤ 名媛貴婦指定的店♢下午茶、鬆餅在這裡♡</span></a></span><br /><span style=\\\"color: #993300;\\\"><a href=\\\"http://joyaijia.pixnet.net/blog/post/166912671\\\"><span style=\\\"color: #993300;\\\">[食記] 東區 ♧忠孝復興站&clubs; PIGIPIGI比崎餐坊 ♫小資女的微貴婦高CP值下午茶♪ (附完整菜單)</span></a></span><br /><span style=\\\"color: #993300;\\\"><a href=\\\"http://joyaijia.pixnet.net/blog/post/160684524\\\"><span style=\\\"color: #993300;\\\">[食記] 東區◩忠孝復興站◪ 好時光迴廊♫平價下午茶❤甜滋滋蜜糖吐司♬</span></a></span><br /><span style=\\\"color: #993300;\\\"><a href=\\\"http://joyaijia.pixnet.net/blog/post/263821645\\\"><span style=\\\"color: #993300;\\\">[食記] 板橋區 新埔站 ♕Birkin Waffle cafe♛ 板橋高CP值♡超大份量早午餐♪ 早餐吃龍蝦好霸氣阿xDD</span></a></span><br /><br /><img src=\\\"//s.pixfs.net/f.pixnet.net/images/emotions/021.gif\\\" alt=\\\"\\\" border=\\\"0\\\" /><span style=\\\"color: #000000;\\\">歡迎大家來找大食女，跟我一起玩耍呦<img src=\\\"//s.pixfs.net/f.pixnet.net/images/emotions/020.gif\\\" alt=\\\"\\\" border=\\\"0\\\" /></span><br /><a href=\\\"https://www.facebook.com/joyaijia\\\"><img title=\\\"fb-2\\\" src=\\\"http://pic.pimg.tw/joyaijia/1417334372-3411544199_n.jpg\\\" alt=\\\"fb-2\\\" border=\\\"0\\\" /></a>&nbsp;&nbsp;</p>\"\n"
     ]
    }
   ],
   "source": [
    "print json.dumps(data[100]['content'], ensure_ascii=False)"
   ]
  },
  {
   "cell_type": "code",
   "execution_count": null,
   "metadata": {
    "collapsed": true
   },
   "outputs": [],
   "source": [
    "for d in data:\n",
    "    d['content']"
   ]
  },
  {
   "cell_type": "code",
   "execution_count": 61,
   "metadata": {
    "collapsed": false
   },
   "outputs": [
    {
     "name": "stdout",
     "output_type": "stream",
     "text": [
      "<div class=\"piliapp-mobile-move-screen\" style=\"width:296px;height:43px !important;border:dashed 2px black;font-size:20px !important;line-height:43px !important;background-color:lightblue !important;padding:0 !important;text-align:center;margin-bottom:400px;margin-top:-10px;margin-left:auto;margin-right:auto;\">我搬家了！請點<a href=\"http://jennifer4.com/2014-01-27-390/\" style=\"font-size:28px !important;\" title=\"[捷運美食-新埔站] 板橋人氣店~巴克斯美式小館，不用去吃到飽也能吃巧又吃到很飽!→→恭喜本文獲選PCHOME精選文章和熱門圖片\">這裡繼續</a><br><span style=\"font-size:12px !important;\">(工具邦 技術提供)</span></div>\n",
      "<div class=\"piliapp-mobile-move-screen\" style=\"width:100%;height:43px !important;border-top:dashed 2px black;border-bottom:dashed 2px black;font-size:20px !important;line-height:43px !important;background-color:lightblue !important;padding:0 !important;text-align:center; position:fixed !important; top:0px !important; left:0 !important;z-index:10000 !important;\">我搬家了！請點<a href=\"http://jennifer4.com/2014-01-27-390/\" style=\"font-size:28px !important;\" title=\"[捷運美食-新埔站] 板橋人氣店~巴克斯美式小館，不用去吃到飽也能吃巧又吃到很飽!→→恭喜本文獲選PCHOME精選文章和熱門圖片\">這裡繼續</a></div>\n",
      "<div style=\"font-size:28px !important;line-height:32px !important;\">(這裡只有摘要)</div><div>閱讀全文 ➜ <a href=\"http://jennifer4.com/2014-01-27-390/\">[捷運美食-新埔站] 板橋人氣店~巴克斯美式小館，不用去吃到飽也能吃巧又吃到很飽!→→恭喜本文獲選PCHOME精選文章和熱門圖片</a></div><br><br><p style=\"text-align: center;\"><span style=\"font-family: 新細明體; font-size: 12pt; color: #800000;\"><a title=\"板橋美食 巴克斯美式小館\" href=\"http://a221740.pixnet.net/blog/post/172011015\" target=\"_blank\"><span style=\"color: #800000;\"><img title=\"IMG_3431\" src=\"http://pic.pimg.tw/a221740/1389890244-1277490325_n.jpg\" alt=\"IMG_3431\" border=\"0\" />&nbsp;</span></a></span></p>\r\n",
      "<p style=\"text-align: center;\"><span style=\"color: #800000; font-family: 新細明體; font-size: 12pt;\"><span style=\"color: #800000; font-family: 新細明體; font-size: 16.363636016845703px;\">&lt;起司四重奏&gt;</span>果然如其名..這是一個會讓人傻眼的大漢堡</span></p>\r\n",
      "<p style=\"text-align: center;\"><span style=\"color: #800000; font-family: 新細明體; font-size: 12pt;\">熱騰騰的漢堡肉已經把鋪在上面的起司融化了..要滴下來了</span>&nbsp;</p>\r\n",
      "<p style=\"text-align: center;\"><span style=\"font-size: 14pt; color: #ffffff; background-color: #ff0000;\"><strong><span style=\"font-family: 新細明體;\">**恭喜本文獲選 PCHOME 2014/1/29 哈燒文章和熱門圖片**</span></strong></span></p>\r\n",
      "<p style=\"text-align: center;\"><span style=\"color: #800000; font-family: 新細明體; font-size: 12pt;\"><a title=\"板橋美食 巴克斯美式小館\" href=\"http://a221740.pixnet.net/blog/post/172011015\" target=\"_blank\"><img title=\"PCHOME同上哈燒文和圖片\" src=\"http://pic.pimg.tw/a221740/1390964997-3143986147_n.jpg?v=1390964998\" alt=\"PCHOME同上哈燒文和圖片\" border=\"0\" /></a> &nbsp;&nbsp;&nbsp;</span></p>\n",
      "<script src=\"//pic.sopili.net/move/screen/pixnet-analytics.js\"></script>\n",
      "\n"
     ]
    }
   ],
   "source": [
    "print(data[0]['content'].encode('utf-8'))"
   ]
  },
  {
   "cell_type": "code",
   "execution_count": 11,
   "metadata": {
    "collapsed": false
   },
   "outputs": [
    {
     "ename": "UnicodeEncodeError",
     "evalue": "'ascii' codec can't encode characters in position 311-317: ordinal not in range(128)",
     "output_type": "error",
     "traceback": [
      "\u001b[0;31m---------------------------------------------------------------------------\u001b[0m",
      "\u001b[0;31mUnicodeEncodeError\u001b[0m                        Traceback (most recent call last)",
      "\u001b[0;32m<ipython-input-11-3f0c0deb1087>\u001b[0m in \u001b[0;36m<module>\u001b[0;34m()\u001b[0m\n\u001b[0;32m----> 1\u001b[0;31m \u001b[0;32mprint\u001b[0m\u001b[0;34m(\u001b[0m\u001b[0mdata\u001b[0m\u001b[0;34m[\u001b[0m\u001b[0;36m0\u001b[0m\u001b[0;34m]\u001b[0m\u001b[0;34m[\u001b[0m\u001b[0;34m'content'\u001b[0m\u001b[0;34m]\u001b[0m\u001b[0;34m)\u001b[0m\u001b[0;34m.\u001b[0m\u001b[0mdecode\u001b[0m\u001b[0;34m(\u001b[0m\u001b[0;34m'unicode_escape'\u001b[0m\u001b[0;34m)\u001b[0m\u001b[0;34m\u001b[0m\u001b[0m\n\u001b[0m",
      "\u001b[0;31mUnicodeEncodeError\u001b[0m: 'ascii' codec can't encode characters in position 311-317: ordinal not in range(128)"
     ]
    }
   ],
   "source": [
    "print(data[0]['content']).decode('unicode_escape')"
   ]
  },
  {
   "cell_type": "code",
   "execution_count": 21,
   "metadata": {
    "collapsed": false
   },
   "outputs": [
    {
     "name": "stdout",
     "output_type": "stream",
     "text": [
      "{\"category\": \"美味食記\", \"content\": \"<p><span style=\\\"font-family: 'comic sans ms', sans-serif; font-size: 14pt; color: #000000;\\\">♘<span style=\\\"color: #ff6600;\\\">♖</span>♘<span style=\\\"color: #ff6600;\\\">♖</span>♘<span style=\\\"color: #ff6600;\\\">♖</span><strong>Tame Moose</strong>♘<span style=\\\"color: #ff6600;\\\">♖</span>♘<span style=\\\"color: #ff6600;\\\">♖</span>♘<span style=\\\"color: #ff6600;\\\">♖</span></span><br /><img title=\\\"cats.jpg\\\" src=\\\"http://pic.pimg.tw/joyaijia/1428597064-1813900297_n.jpg\\\" alt=\\\"cats.jpg\\\" border=\\\"0\\\" /> &nbsp;&nbsp;&nbsp;</p>\\r\\n<p><span style=\\\"color: #000000;\\\">♕ 雙手奉上店家資訊 ♛</span><br /><span style=\\\"color: #000000;\\\">地址：台北市大同區建泰里南京西路18巷6弄6號1樓</span><br /><span style=\\\"color: #000000;\\\">交通方式：從捷運中山站一號出口，牛乳大王巷口走進去，第二條巷子就看得到囉</span><br /><span style=\\\"color: #000000;\\\">營業時間：週二～週日11：-00～23：00</span><br /><span style=\\\"color: #000000;\\\">店家電話：2556-5908</span><br /><span style=\\\"color: #000000;\\\">有無收取服務費：Yes</span><br /><span style=\\\"color: #000000;\\\">有無提供Wifi：Yes</span><br /><span style=\\\"color: #000000;\\\">店家FB：<strong><span style=\\\"color: #0000ff; background-color: #ffff00;\\\"><a href=\\\"https://www.facebook.com/tamemoose\\\"><span style=\\\"color: #0000ff; background-color: #ffff00;\\\">在這裡</span></a></span></strong><br /><br /><img src=\\\"//s.pixfs.net/f.pixnet.net/images/emotions/021.gif\\\" alt=\\\"\\\" border=\\\"0\\\" />歡迎來找大食女，跟我一起分享好吃、好玩的呦<img src=\\\"//s.pixfs.net/f.pixnet.net/images/emotions/020.gif\\\" alt=\\\"\\\" border=\\\"0\\\" /><br /><a href=\\\"https://www.facebook.com/joyaijia\\\"><img title=\\\"FB名片貼\\\" src=\\\"http://pic.pimg.tw/joyaijia/1417004066-573800683.png\\\" alt=\\\"FB名片貼\\\" width=\\\"163\\\" height=\\\"225\\\" border=\\\"0\\\" /></a> &nbsp;<a href=\\\"https://instagram.com/iamteresa0424/\\\"><img title=\\\"下載\\\" src=\\\"http://pic.pimg.tw/joyaijia/1417004066-374013419.jpg\\\" alt=\\\"下載\\\" width=\\\"161\\\" height=\\\"161\\\" border=\\\"0\\\" /></a> &nbsp;<br /><br />大食女上次到<img src=\\\"//s.pixfs.net/f.pixnet.net/images/emotions/032.gif\\\" alt=\\\"\\\" border=\\\"0\\\" /><strong><span style=\\\"color: #0000ff; background-color: #ffff00;\\\"><a href=\\\"http://joyaijia.pixnet.net/blog/post/264239305\\\"><span style=\\\"color: #0000ff; background-color: #ffff00;\\\">樂卷</span></a></span></strong><img src=\\\"//s.pixfs.net/f.pixnet.net/images/emotions/032.gif\\\" alt=\\\"\\\" border=\\\"0\\\" />用餐時，就看到對面有家新開幕的<span style=\\\"background-color: #ffff99;\\\">工業風</span>小店(大食女非常尬藝這種風格的店家～<br />之後又看到幾位格友的分享文，讓大食女趕緊找個假日，跟妹妹來朝聖一下啦！xDD<br />Tame moose交通上可說是相當方便，從中山捷運站一號出口出站後，步行約三分鐘就可抵達囉！<br /><img title=\\\"DSC02788.jpg\\\" src=\\\"http://pic.pimg.tw/joyaijia/1428597088-4216870796_n.jpg\\\" alt=\\\"DSC02788.jpg\\\" border=\\\"0\\\" /> &nbsp;<br /><br /><a href=\\\"http://joyaijia.pixnet.net/album/photo/586694383\\\"><img title=\\\"DSC02795.jpg\\\" src=\\\"http://pic.pimg.tw/joyaijia/1428597090-2749857907_n.jpg\\\" alt=\\\"DSC02795.jpg\\\" border=\\\"0\\\" /></a> &nbsp;<br /><br />門把以水管樣式呈現，其實大食女更想轉轉看那龍頭開關(喂xD<br /><a href=\\\"http://joyaijia.pixnet.net/album/photo/586694413\\\"><img title=\\\"DSC02801.jpg\\\" src=\\\"http://pic.pimg.tw/joyaijia/1428597091-1959463415_n.jpg\\\" alt=\\\"DSC02801.jpg\\\" border=\\\"0\\\" /></a> &nbsp;<br /><br />一進入店內，馬上感受到濃濃的工業風<br />大食女跟妹妹當天約一點半到店用餐，阿娘威...這郎客可說是滿滿滿阿(驚)！！<br /><a href=\\\"http://joyaijia.pixnet.net/album/photo/586694398\\\"><img title=\\\"DSC0001.jpg\\\" src=\\\"http://pic.pimg.tw/joyaijia/1428597093-3907744008_n.jpg\\\" alt=\\\"DSC0001.jpg\\\" border=\\\"0\\\" /></a> &nbsp;<br /><br /><a href=\\\"http://joyaijia.pixnet.net/album/photo/586694404\\\"><img title=\\\"DSC00002.jpg\\\" src=\\\"http://pic.pimg.tw/joyaijia/1428597094-2453832545_n.jpg\\\" alt=\\\"DSC00002.jpg\\\" border=\\\"0\\\" /></a> &nbsp;<br /><br />玻璃窗旁的座位，讓大食女相當尬藝<br />冷冽的灰水泥牆，因著自然撒入的陽光、及暖色系吊燈，讓整個視角不再冷冰冰，反倒更顯另種溫馨愜意<br /><a href=\\\"http://joyaijia.pixnet.net/album/photo/586694458\\\"><img title=\\\"DSC00005.jpg\\\" src=\\\"http://pic.pimg.tw/joyaijia/1428597096-3322961773_n.jpg\\\" alt=\\\"DSC00005.jpg\\\" border=\\\"0\\\" /></a> &nbsp;<br /><br /><a href=\\\"http://joyaijia.pixnet.net/album/photo/586694419\\\"><img title=\\\"DSC00006.jpg\\\" src=\\\"http://pic.pimg.tw/joyaijia/1428597097-3934663183_n.jpg\\\" alt=\\\"DSC00006.jpg\\\" border=\\\"0\\\" /></a> &nbsp;<br /><br /><a href=\\\"http://joyaijia.pixnet.net/album/photo/586694434\\\"><img title=\\\"DSC00008.jpg\\\" src=\\\"http://pic.pimg.tw/joyaijia/1428597098-2653841842_n.jpg\\\" alt=\\\"DSC00008.jpg\\\" border=\\\"0\\\" /></a> &nbsp;<br /><br />繽紛的鐵桌及鐵椅，為整間店注入股清新活力氣息<br /><a href=\\\"http://joyaijia.pixnet.net/album/photo/586694470\\\"><img title=\\\"DSC00033.jpg\\\" src=\\\"http://pic.pimg.tw/joyaijia/1428597102-4030942095_n.jpg\\\" alt=\\\"DSC00033.jpg\\\" border=\\\"0\\\" /></a> &nbsp;<br /><br /><a href=\\\"http://joyaijia.pixnet.net/album/photo/586694440\\\"><img title=\\\"DSC00030.jpg\\\" src=\\\"http://pic.pimg.tw/joyaijia/1428597100-721236092_n.jpg\\\" alt=\\\"DSC00030.jpg\\\" border=\\\"0\\\" /></a> &nbsp;<br /><br /><a href=\\\"http://joyaijia.pixnet.net/album/photo/586694455\\\"><img title=\\\"DSC00032.jpg\\\" src=\\\"http://pic.pimg.tw/joyaijia/1428597101-869632905_n.jpg\\\" alt=\\\"DSC00032.jpg\\\" border=\\\"0\\\" /></a> &nbsp;<br /><br />櫃台的設計，更是巧思別具<br />將各式酒瓶置於鐵網內，可說是將工業風展現的淋漓盡致阿！(讓大食女當天駐足觀看了許久～<br /><a href=\\\"http://joyaijia.pixnet.net/album/photo/586694491\\\"><img title=\\\"DSC02004.jpg\\\" src=\\\"http://pic.pimg.tw/joyaijia/1428597107-2681914711_n.jpg\\\" alt=\\\"DSC02004.jpg\\\" border=\\\"0\\\" /></a> &nbsp;<br /><br /><a href=\\\"http://joyaijia.pixnet.net/album/photo/586694500\\\"><img title=\\\"DSC02005.jpg\\\" src=\\\"http://pic.pimg.tw/joyaijia/1428597109-4258934357_n.jpg\\\" alt=\\\"DSC02005.jpg\\\" border=\\\"0\\\" /></a> &nbsp;<br /><br /><a href=\\\"http://joyaijia.pixnet.net/album/photo/586694476\\\"><img title=\\\"DSC002002.jpg\\\" src=\\\"http://pic.pimg.tw/joyaijia/1428597104-2269551453_n.jpg\\\" alt=\\\"DSC002002.jpg\\\" border=\\\"0\\\" /></a> &nbsp;<br /><br />冰櫃內擺著各式啤酒、氣泡水、及蛋糕甜點<br /><a href=\\\"http://joyaijia.pixnet.net/album/photo/586694533\\\"><img title=\\\"DSC02007.jpg\\\" src=\\\"http://pic.pimg.tw/joyaijia/1428597111-1142211349_n.jpg\\\" alt=\\\"DSC02007.jpg\\\" border=\\\"0\\\" /></a> &nbsp;<br /><br />相當可愛繽紛的茶壺<img src=\\\"//s.pixfs.net/f.pixnet.net/images/emotions/021.gif\\\" alt=\\\"\\\" border=\\\"0\\\" /><br /><a href=\\\"http://joyaijia.pixnet.net/album/photo/586694518\\\"><img title=\\\"DSC02008.jpg\\\" src=\\\"http://pic.pimg.tw/joyaijia/1428597112-667050604_n.jpg\\\" alt=\\\"DSC02008.jpg\\\" border=\\\"0\\\" /></a> &nbsp;<br /><br /><a href=\\\"http://joyaijia.pixnet.net/album/photo/586694536\\\"><img title=\\\"DSC02010.jpg\\\" src=\\\"http://pic.pimg.tw/joyaijia/1428597113-3426522048_n.jpg\\\" alt=\\\"DSC02010.jpg\\\" border=\\\"0\\\" /></a> &nbsp;<br /><br />Tame moose名片以<span style=\\\"background-color: #ffff99;\\\">麋鹿</span>來設計，將它放在小推車裡頭，實在相當卡哇伊阿！！！<br /><a href=\\\"http://joyaijia.pixnet.net/album/photo/586694545\\\"><img title=\\\"DSC02020.jpg\\\" src=\\\"http://pic.pimg.tw/joyaijia/1428597116-1390475468_n.jpg\\\" alt=\\\"DSC02020.jpg\\\" border=\\\"0\\\" /></a> &nbsp;<br /><br /><a href=\\\"http://joyaijia.pixnet.net/album/photo/586694587\\\"><img title=\\\"DSC02022.jpg\\\" src=\\\"http://pic.pimg.tw/joyaijia/1428597118-2986017195_n.jpg\\\" alt=\\\"DSC02022.jpg\\\" border=\\\"0\\\" /></a> &nbsp;<br /><br /><a href=\\\"http://joyaijia.pixnet.net/album/photo/586694575\\\"><img title=\\\"DSC02024.jpg\\\" src=\\\"http://pic.pimg.tw/joyaijia/1428597120-3207909978_n.jpg\\\" alt=\\\"DSC02024.jpg\\\" border=\\\"0\\\" /></a> &nbsp;<br /><br />店內空間採狹長式設計，水泥地板配上這斑駁紅磚牆面設計，可說是瀰漫股濃濃loft風<br /><a href=\\\"http://joyaijia.pixnet.net/album/photo/586694584\\\"><img title=\\\"DSC02040.jpg\\\" src=\\\"http://pic.pimg.tw/joyaijia/1428597122-1652127125_n.jpg\\\" alt=\\\"DSC02040.jpg\\\" border=\\\"0\\\" /></a> &nbsp;<br /><br /><a href=\\\"http://joyaijia.pixnet.net/album/photo/586694599\\\"><img title=\\\"DSC02050.jpg\\\" src=\\\"http://pic.pimg.tw/joyaijia/1428597124-339094290_n.jpg\\\" alt=\\\"DSC02050.jpg\\\" border=\\\"0\\\" /></a> &nbsp;<br /><br /><a href=\\\"http://joyaijia.pixnet.net/album/photo/586694626\\\"><img title=\\\"DSC02923.jpg\\\" src=\\\"http://pic.pimg.tw/joyaijia/1428597125-4187455535_n.jpg\\\" alt=\\\"DSC02923.jpg\\\" border=\\\"0\\\" /></a> &nbsp;<br /><br />大食女相當喜歡這盞復古工業風的電扇造型壁燈<br /><a href=\\\"http://joyaijia.pixnet.net/album/photo/586694620\\\"><img title=\\\"DSC04012.jpg\\\" src=\\\"http://pic.pimg.tw/joyaijia/1428597127-523818022_n.jpg\\\" alt=\\\"DSC04012.jpg\\\" border=\\\"0\\\" /></a> &nbsp;<br /><br /><a href=\\\"http://joyaijia.pixnet.net/album/photo/586694632\\\"><img title=\\\"DSC04018.jpg\\\" src=\\\"http://pic.pimg.tw/joyaijia/1428597129-3544827723_n.jpg\\\" alt=\\\"DSC04018.jpg\\\" border=\\\"0\\\" /></a> &nbsp;<br /><br /><a href=\\\"http://joyaijia.pixnet.net/album/photo/586694623\\\"><img title=\\\"DSC04014.jpg\\\" src=\\\"http://pic.pimg.tw/joyaijia/1428597128-3553462857_n.jpg\\\" alt=\\\"DSC04014.jpg\\\" border=\\\"0\\\" /></a> &nbsp;<br /><br /><a href=\\\"http://joyaijia.pixnet.net/album/photo/586694641\\\"><img title=\\\"DSC04020.jpg\\\" src=\\\"http://pic.pimg.tw/joyaijia/1428597131-1708169273_n.jpg\\\" alt=\\\"DSC04020.jpg\\\" border=\\\"0\\\" /></a> &nbsp;<br /><br />唉呀，工業風店家，總是讓大食女失控地相機咔咔咔個不停xDDD<br />拍到肚子咕嚕咕嚕叫啦！！趕緊坐定位準備來點餐囉^^<br />Tame moose餐點可說是相當多樣，從早午餐、義大利麵、燉飯、漢堡、到焙鍋鬆餅，可說是應有盡有阿！！大食女當天實在看menu看到眼花撩亂@@ 索性直接請店員為我們推薦幾道招牌餐點啦xDD<br /><a href=\\\"http://joyaijia.pixnet.net/album/photo/586695241\\\"><img title=\\\"DSC02888.jpg\\\" src=\\\"http://pic.pimg.tw/joyaijia/1428597189-596207146_n.jpg\\\" alt=\\\"DSC02888.jpg\\\" border=\\\"0\\\" /></a> &nbsp;<br /><br />等餐同時，大食女馬上找小麋鹿們來玩玩xDDD 怎麼會有這麼可愛的名片啦！！(尖叫<img src=\\\"//s.pixfs.net/f.pixnet.net/images/emotions/012.gif\\\" alt=\\\"\\\" border=\\\"0\\\" /><br /><a href=\\\"http://joyaijia.pixnet.net/album/photo/586695175\\\"><img title=\\\"DSC03009.jpg\\\" src=\\\"http://pic.pimg.tw/joyaijia/1428597184-383455628_n.jpg\\\" alt=\\\"DSC03009.jpg\\\" border=\\\"0\\\" /></a> &nbsp;<br /><br /><a href=\\\"http://joyaijia.pixnet.net/album/photo/586695196\\\"><img title=\\\"DSC03014.jpg\\\" src=\\\"http://pic.pimg.tw/joyaijia/1428597186-1460528507_n.jpg\\\" alt=\\\"DSC03014.jpg\\\" border=\\\"0\\\" /></a> &nbsp;<br /><br />拿著酒瓶的小麋鹿，就好像在跟大食女說：來來來，猴搭啦～～～(乾杯！)<br /><a href=\\\"http://joyaijia.pixnet.net/album/photo/586695211\\\"><img title=\\\"DSC03473.jpg\\\" src=\\\"http://pic.pimg.tw/joyaijia/1428597187-3489519188_n.jpg\\\" alt=\\\"DSC03473.jpg\\\" border=\\\"0\\\" /></a> &nbsp;<br /><br />唉呀，跟這麼可愛的小麋鹿乾杯，大食女只想說\\\"我願意阿\\\"xDDDD<br /><a href=\\\"http://joyaijia.pixnet.net/album/photo/586695217\\\"><img title=\\\"SHOW_20150408_205728_-1.jpg\\\" src=\\\"http://pic.pimg.tw/joyaijia/1428597188-766944772_n.jpg\\\" alt=\\\"SHOW_20150408_205728_-1.jpg\\\" border=\\\"0\\\" /></a> &nbsp;<br /><br />等候約十分鐘，今天打頭陣登場的是<img src=\\\"//s.pixfs.net/f.pixnet.net/images/emotions/032.gif\\\" alt=\\\"\\\" border=\\\"0\\\" />紅酒燉牛肉義大利扁麵&nbsp;<img src=\\\"//s.pixfs.net/f.pixnet.net/images/emotions/032.gif\\\" alt=\\\"\\\" border=\\\"0\\\" />&nbsp;$320<br /><a href=\\\"http://joyaijia.pixnet.net/album/photo/586694647\\\"><img title=\\\"DSC03071.jpg\\\" src=\\\"http://pic.pimg.tw/joyaijia/1428597132-2823103280_n.jpg\\\" alt=\\\"DSC03071.jpg\\\" border=\\\"0\\\" /></a> &nbsp;<br /><br />麋鹿表示：我也想吃(飛奔～～～)<br /><a href=\\\"http://joyaijia.pixnet.net/album/photo/586694653\\\"><img title=\\\"DSC03082.jpg\\\" src=\\\"http://pic.pimg.tw/joyaijia/1428597134-2734934632_n.jpg\\\" alt=\\\"DSC03082.jpg\\\" border=\\\"0\\\" /></a> &nbsp;<br /><br />其實店員將餐點端上桌時，大食女還蠻訝異的<img src=\\\"//s.pixfs.net/f.pixnet.net/images/emotions/omg_smile.gif\\\" alt=\\\"\\\" border=\\\"0\\\" /><br />之前吃到的紅酒燉牛肉義大利麵都是直接將麵拌入湯汁內，還真是頭一次看到這樣\\\"分離式\\\"的烹調方式呢！<br /><a href=\\\"http://joyaijia.pixnet.net/album/photo/586694659\\\"><img title=\\\"DSC03113.jpg\\\" src=\\\"http://pic.pimg.tw/joyaijia/1428597135-2617210435_n.jpg\\\" alt=\\\"DSC03113.jpg\\\" border=\\\"0\\\" /></a> &nbsp;<br /><br />牛肉給得很大氣，約五～六大塊，旁邊另有兩塊法國麵包(阿，拍謝...一塊已經在大食女巴豆裡了&gt;&lt;)<br />一旁的蘿蔔可說是燉的相當入味軟爛，讓大食妹相當尬藝<br /><a href=\\\"http://joyaijia.pixnet.net/album/photo/586694665\\\"><img title=\\\"DSC03126.jpg\\\" src=\\\"http://pic.pimg.tw/joyaijia/1428597137-3525865750_n.jpg\\\" alt=\\\"DSC03126.jpg\\\" border=\\\"0\\\" /></a> &nbsp;<br /><br />法國麵包沾著醬汁作夥入口，可說是相當好食阿！！<br /><a href=\\\"http://joyaijia.pixnet.net/album/photo/586983655\\\"><img title=\\\"DSC03121.jpg\\\" src=\\\"http://pic.pimg.tw/joyaijia/1428720078-4073346074_n.jpg\\\" alt=\\\"DSC03121.jpg\\\" border=\\\"0\\\" /></a> &nbsp;<br /><br />讓大食女最尬藝的，就是這牛肉了！！燉到軟爛之外、更是相當入味，可說是入口即化阿(醉<img src=\\\"//s.pixfs.net/f.pixnet.net/images/emotions/021.gif\\\" alt=\\\"\\\" border=\\\"0\\\" /><br />紅酒燉牛肉的湯汁屬清爽型的，不會有那種ㄍㄡˊ ㄍㄡ的感覺，吃起來紅酒味偏重、所以微偏酸，跟一般吃到的不太一樣！<br /><img title=\\\"DSC03140\\\" src=\\\"http://pic.pimg.tw/joyaijia/1428719570-2850118184_n.jpg\\\" alt=\\\"DSC03140\\\" border=\\\"0\\\" /> &nbsp;<br /><br />義大利麵選擇以<span style=\\\"background-color: #ffff99;\\\">細扁麵</span>呈現<br /><a href=\\\"http://joyaijia.pixnet.net/album/photo/586694752\\\"><img title=\\\"DSC03128.jpg\\\" src=\\\"http://pic.pimg.tw/joyaijia/1428597139-4263952307_n.jpg\\\" alt=\\\"DSC03128.jpg\\\" border=\\\"0\\\" /></a> &nbsp;<br /><br />並不像一般義大利麵，將麵直接泡在湯汁裡頭，所以大食女一拍完照，立馬跟妹妹火速開吃xDD 超怕它乾掉...&gt;&lt;<br /><a href=\\\"http://joyaijia.pixnet.net/album/photo/586694686\\\"><img title=\\\"DSC03211.jpg\\\" src=\\\"http://pic.pimg.tw/joyaijia/1428597140-2626561803_n.jpg\\\" alt=\\\"DSC03211.jpg\\\" border=\\\"0\\\" /></a> &nbsp;<br /><br />但其實也可將麵條泡到一旁的牛肉湯汁裡頭，吸飽了紅酒牛肉湯汁的義大利麵更好食了！<br />扁麵吃起來口感Q彈，是咬得到麵心那種(大食女超怕那種軟爛過了頭的義大利麵...)，所以這麵條可說是相當合大食女胃口^____^<br /><a href=\\\"http://joyaijia.pixnet.net/album/photo/586694713\\\"><img title=\\\"DSC03219.jpg\\\" src=\\\"http://pic.pimg.tw/joyaijia/1428597141-2802238388_n.jpg\\\" alt=\\\"DSC03219.jpg\\\" border=\\\"0\\\" /></a> &nbsp;<br /><br /><img src=\\\"//s.pixfs.net/f.pixnet.net/images/emotions/032.gif\\\" alt=\\\"\\\" border=\\\"0\\\" />鴨胸班尼迪克蛋仔<img src=\\\"//s.pixfs.net/f.pixnet.net/images/emotions/032.gif\\\" alt=\\\"\\\" border=\\\"0\\\" />&nbsp;$260&nbsp;<br /><a href=\\\"http://joyaijia.pixnet.net/album/photo/586694755\\\"><img title=\\\"DSC03202.jpg\\\" src=\\\"http://pic.pimg.tw/joyaijia/1428597143-3080351199_n.jpg\\\" alt=\\\"DSC03202.jpg\\\" border=\\\"0\\\" /></a> &nbsp;<br /><br />大食女完全是<span style=\\\"background-color: #ffff99;\\\">水波蛋重度成癮者</span>！！來餐廳不點它，就渾身不對勁阿！！(咦？！這是種症頭嗎xD)<br />但在此也要提醒各位捧油們，蛋黃哥餐點假日時段只供應到下午三點呦～太晚來就沒啦xD<br /><a href=\\\"http://joyaijia.pixnet.net/album/photo/586694764\\\"><img title=\\\"DSC03225.jpg\\\" src=\\\"http://pic.pimg.tw/joyaijia/1428597144-529722064_n.jpg\\\" alt=\\\"DSC03225.jpg\\\" border=\\\"0\\\" /></a> &nbsp;<br /><br />看著那ㄉㄨㄞ ㄉㄨㄞ的水波蛋，讓大食女簡直要凍抹條阿...<br /><a href=\\\"http://joyaijia.pixnet.net/album/photo/586694773\\\"><img title=\\\"DSC03263.jpg\\\" src=\\\"http://pic.pimg.tw/joyaijia/1428597146-3248795046_n.jpg\\\" alt=\\\"DSC03263.jpg\\\" border=\\\"0\\\" /></a> &nbsp;<br /><br /><a href=\\\"http://joyaijia.pixnet.net/album/photo/586694779\\\"><img title=\\\"DSC03267.jpg\\\" src=\\\"http://pic.pimg.tw/joyaijia/1428597147-257082356_n.jpg\\\" alt=\\\"DSC03267.jpg\\\" border=\\\"0\\\" /></a> &nbsp;<br /><br />那吹彈可破的樣子，讓大食女好想偷拿叉子戳它一下xD<br /><a href=\\\"http://joyaijia.pixnet.net/album/photo/586694794\\\"><img title=\\\"DSC03268.jpg\\\" src=\\\"http://pic.pimg.tw/joyaijia/1428597148-1287254503_n.jpg\\\" alt=\\\"DSC03268.jpg\\\" border=\\\"0\\\" /></a> &nbsp;<br /><br />來來來，馬上來解剖吧！！！(磨刀霍霍<br /><a href=\\\"http://joyaijia.pixnet.net/album/photo/586694803\\\"><img title=\\\"DSC03308.jpg\\\" src=\\\"http://pic.pimg.tw/joyaijia/1428597149-1998967351_n.jpg\\\" alt=\\\"DSC03308.jpg\\\" border=\\\"0\\\" /></a> &nbsp;<br /><br />(要出來了...要出來了...!!!)大食妹不斷在旁邊嚷嚷xDDD<br /><a href=\\\"http://joyaijia.pixnet.net/album/photo/586694818\\\"><img title=\\\"DSC03315.jpg\\\" src=\\\"http://pic.pimg.tw/joyaijia/1428597151-611027890_n.jpg\\\" alt=\\\"DSC03315.jpg\\\" border=\\\"0\\\" /></a> &nbsp;<br /><br />OMG...這就是大食女最期待的一刻！！！看著那潺潺流出的金黃蛋液...簡直讓人high到最高點阿！！！(歡呼yahooooo～～～<br /><a href=\\\"http://joyaijia.pixnet.net/album/photo/586694827\\\"><img title=\\\"DSC03319.jpg\\\" src=\\\"http://pic.pimg.tw/joyaijia/1428597152-2809977843_n.jpg\\\" alt=\\\"DSC03319.jpg\\\" border=\\\"0\\\" /></a> &nbsp;<br /><br />Q嫩飽滿的的班尼迪克蛋搭上馬芬麵包～蛋的柔順香醇跟麵包的扎實Q彈，可說是相得益彰！！合拍度百分百阿！！(尖叫<br /><a href=\\\"http://joyaijia.pixnet.net/album/photo/586694839\\\"><img title=\\\"DSC03406.jpg\\\" src=\\\"http://pic.pimg.tw/joyaijia/1428597154-3048270406_n.jpg\\\" alt=\\\"DSC03406.jpg\\\" border=\\\"0\\\" /></a> &nbsp;<br /><br />班尼迪克蛋可選擇搭配不同肉品，像是鮭魚、鴨肉等，這次大食女跟妹妹則是選擇後者<br />煙燻後的鴨胸吃起來口感偏硬了些，少了那種juicy的感覺&gt;&lt; 但搭著Q軟的班尼迪克蛋作夥入口，就好似為班尼迪克蛋添了另種口感～<br /><a href=\\\"http://joyaijia.pixnet.net/album/photo/586694845\\\"><img title=\\\"DSC03415.jpg\\\" src=\\\"http://pic.pimg.tw/joyaijia/1428597155-1635288940_n.jpg\\\" alt=\\\"DSC03415.jpg\\\" border=\\\"0\\\" /></a>&nbsp;&nbsp;<br /><br />薯條外層炸至酥香，咬下去會咔滋咔滋地，裡頭卻相當鬆軟，讓大食女馬上將它完食xDD<br /><a href=\\\"http://joyaijia.pixnet.net/album/photo/586694851\\\"><img title=\\\"DSC04243.jpg\\\" src=\\\"http://pic.pimg.tw/joyaijia/1428597156-1297312186_n.jpg\\\" alt=\\\"DSC04243.jpg\\\" border=\\\"0\\\" /></a> &nbsp;<br /><br /><img src=\\\"//s.pixfs.net/f.pixnet.net/images/emotions/032.gif\\\" alt=\\\"\\\" border=\\\"0\\\" />法式蒙巴納熱可可<img src=\\\"//s.pixfs.net/f.pixnet.net/images/emotions/032.gif\\\" alt=\\\"\\\" border=\\\"0\\\" />&nbsp;$140<br /><a href=\\\"http://joyaijia.pixnet.net/album/photo/586694863\\\"><img title=\\\"DSC03143.jpg\\\" src=\\\"http://pic.pimg.tw/joyaijia/1428597159-3548733199_n.jpg\\\" alt=\\\"DSC03143.jpg\\\" border=\\\"0\\\" /></a> &nbsp;&nbsp;&nbsp;<br /><br />以法式手法熱蒸蒙巴納可可歐蕾，並在上頭佐以oreo碎片及棉花糖點綴<br /><a href=\\\"http://joyaijia.pixnet.net/album/photo/586694878\\\"><img title=\\\"DSC03166.jpg\\\" src=\\\"http://pic.pimg.tw/joyaijia/1428597160-729376843_n.jpg\\\" alt=\\\"DSC03166.jpg\\\" border=\\\"0\\\" /></a> &nbsp;<br /><br />微融在熱可可裡的棉花糖、搭著oreo碎片作夥入口，讓人幸福指數瞬間破表阿！！！(醉<img src=\\\"//s.pixfs.net/f.pixnet.net/images/emotions/021.gif\\\" alt=\\\"\\\" border=\\\"0\\\" /><br />熱可可味道濃醇，喝起來相當順口，在這冷冷的天來一杯，實在暖心阿～～～<br /><a href=\\\"http://joyaijia.pixnet.net/album/photo/586694917\\\"><img title=\\\"DSC03192.jpg\\\" src=\\\"http://pic.pimg.tw/joyaijia/1428597162-3240906162_n.jpg\\\" alt=\\\"DSC03192.jpg\\\" border=\\\"0\\\" /></a> &nbsp;<br /><br /><img src=\\\"//s.pixfs.net/f.pixnet.net/images/emotions/032.gif\\\" alt=\\\"\\\" border=\\\"0\\\" />拿鐵<img src=\\\"//s.pixfs.net/f.pixnet.net/images/emotions/032.gif\\\" alt=\\\"\\\" border=\\\"0\\\" />&nbsp;$140<br /><a href=\\\"http://joyaijia.pixnet.net/album/photo/586694896\\\"><img title=\\\"DSC03799.jpg\\\" src=\\\"http://pic.pimg.tw/joyaijia/1428597163-3193474321_n.jpg\\\" alt=\\\"DSC03799.jpg\\\" border=\\\"0\\\" /></a> &nbsp;<br /><br />小鹿你不要只喝必魯嘛～來杯咖啡換換口味阿(眨眼<br /><a href=\\\"http://joyaijia.pixnet.net/album/photo/586694908\\\"><img title=\\\"DSC03892.jpg\\\" src=\\\"http://pic.pimg.tw/joyaijia/1428597164-1421068354_n.jpg\\\" alt=\\\"DSC03892.jpg\\\" border=\\\"0\\\" /></a> &nbsp;<br /><br />大食女完全是個視覺主義者，感覺有拉花的咖啡，就是不一樣！！(哪門子歪理xDD<br />美麗的拉花，讓大食女好捨不得破壞它...只能幫它多拍幾張照片留念了(笑<br /><a href=\\\"http://joyaijia.pixnet.net/album/photo/586694923\\\"><img title=\\\"DSC03898.jpg\\\" src=\\\"http://pic.pimg.tw/joyaijia/1428597166-393261099_n.jpg\\\" alt=\\\"DSC03898.jpg\\\" border=\\\"0\\\" /></a> &nbsp;<br /><br />上頭的拉花可說是整杯咖啡最甜的地方，咖啡色拉花處喝起來，帶有種微甜的巧克力香<br />但拿鐵本身味道稍稍淡了些，如果咖啡味再濃烈點，會更好喝～<br /><a href=\\\"http://joyaijia.pixnet.net/album/photo/586695025\\\"><img title=\\\"DSC03899.jpg\\\" src=\\\"http://pic.pimg.tw/joyaijia/1428597167-3114783562_n.jpg\\\" alt=\\\"DSC03899.jpg\\\" border=\\\"0\\\" /></a> &nbsp;<br /><br />本日壓軸<img src=\\\"//s.pixfs.net/f.pixnet.net/images/emotions/032.gif\\\" alt=\\\"\\\" border=\\\"0\\\" />繽紛莓果焙鍋鬆餅<img src=\\\"//s.pixfs.net/f.pixnet.net/images/emotions/032.gif\\\" alt=\\\"\\\" border=\\\"0\\\" />&nbsp;$240<br /><a href=\\\"http://joyaijia.pixnet.net/album/photo/586694962\\\"><img title=\\\"DSC0000.jpg\\\" src=\\\"http://pic.pimg.tw/joyaijia/1428597168-2116635901_n.jpg\\\" alt=\\\"DSC0000.jpg\\\" border=\\\"0\\\" /></a> &nbsp;<br /><br />焙鍋鬆餅都是現點現做，所以皆須稍加等候個15~20分，但為了它...大食女 絕 對 願 意！！！(大聲說<br />鬆餅上頭佐以新鮮草莓、及<strong><span style=\\\"text-decoration: underline;\\\">師傅<span style=\\\"background-color: #fbcff7;\\\">親自熬製的多種莓果醬</span></span></strong>(是真的看得到莓果顆粒餒!!!)、並大氣的放入球<span style=\\\"background-color: #fbcff7;\\\">meiji草莓冰淇淋</span>，最後再放上個小領結裝飾，天阿！！這叫人怎能不失心瘋啦&gt;&lt;<br /><a href=\\\"http://joyaijia.pixnet.net/album/photo/586694983\\\"><img title=\\\"DSC00003.jpg\\\" src=\\\"http://pic.pimg.tw/joyaijia/1428597170-357822392_n.jpg\\\" alt=\\\"DSC00003.jpg\\\" border=\\\"0\\\" /></a> &nbsp;<br /><br />這麼可愛的甜點一上桌...馬上讓大食女跟妹妹失控了&gt;&lt;<br /><a href=\\\"http://joyaijia.pixnet.net/album/photo/586696402\\\"><img title=\\\"2015-04-08-21-03-12_deco.jpg\\\" src=\\\"http://pic.pimg.tw/joyaijia/1428597326-2777968332_n.jpg\\\" alt=\\\"2015-04-08-21-03-12_deco.jpg\\\" border=\\\"0\\\" /></a> &nbsp;<br /><br />泥砍看～泥砍看，由店家特製的kinfolk糖霜領結，是不是超卡哇伊！！！(女生們應該都會陷入瘋狂，拿起來狂拍xDDD<br /><a href=\\\"http://joyaijia.pixnet.net/album/photo/586695037\\\"><img title=\\\"DSC00020.jpg\\\" src=\\\"http://pic.pimg.tw/joyaijia/1428597174-481653311_n.jpg\\\" alt=\\\"DSC00020.jpg\\\" border=\\\"0\\\" /></a> &nbsp;<br /><br />小蝴蝶結其實就像進擊版的蜜糖吐司，造型更可愛迷人外、口感上也明顯較硬了些(是大食妹很愛的酥香口感)，而上頭的糖霜是吃得到顆粒的，甜而不膩的滋味叫女生怎能不愛啦！(扭扭扭<br />但像大食女本身比較尬藝濕潤口感的蜜糖吐司，所以總覺得小蝴蝶結如果能再軟Q點，就真的幾霸婚啦！<br /><a href=\\\"http://joyaijia.pixnet.net/album/photo/586695061\\\"><img title=\\\"DSC00022.jpg\\\" src=\\\"http://pic.pimg.tw/joyaijia/1428597175-3495603809_n.jpg\\\" alt=\\\"DSC00022.jpg\\\" border=\\\"0\\\" /></a> &nbsp;<br /><br />這麼好吃的甜點，小鹿當然也要來湊一腳(喂xD<br />大食女覺得，這焙鍋鬆餅最特別的地方，就在於<span style=\\\"background-color: #ffff99;\\\">外層的鬆餅皮</span><br /><a href=\\\"http://joyaijia.pixnet.net/album/photo/586695019\\\"><img title=\\\"DSC00012.jpg\\\" src=\\\"http://pic.pimg.tw/joyaijia/1428597173-930406437_n.jpg\\\" alt=\\\"DSC00012.jpg\\\" border=\\\"0\\\" /></a> &nbsp;<br /><br />大食女平常就是個鬆餅愛好者，平常最愛吃那種<span style=\\\"background-color: #ffff99;\\\"><strong><span style=\\\"text-decoration: underline;\\\">外酥內軟</span></strong>的鬆餅</span>！！<br /><span style=\\\"text-decoration: underline;\\\"><strong><span style=\\\"background-color: #ffcc99;\\\">焙鍋鬆餅</span></strong>可說是將外酥內軟的特性，表現得淋漓盡致阿</span>！！！鬆餅裡頭吃起來鬆軟，但外皮卻又帶種<span style=\\\"background-color: #ffff99;\\\">可麗餅的焦香味</span>，這介於可麗餅跟舒芙蕾間的口感，完全把大食女給征服啦...<br /><a href=\\\"http://joyaijia.pixnet.net/album/photo/586695283\\\"><img title=\\\"DSC09977.jpg\\\" src=\\\"http://pic.pimg.tw/joyaijia/1428597182-2985343240_n.jpg\\\" alt=\\\"DSC09977.jpg\\\" border=\\\"0\\\" /></a> &nbsp;<br /><br />強烈建議捧油們可以扒口什麼都不沾的鬆餅皮試試，更可吃出鬆餅本身的蛋奶清香，好好食阿！！<br /><a href=\\\"http://joyaijia.pixnet.net/album/photo/586695160\\\"><img title=\\\"DSC09999.jpg\\\" src=\\\"http://pic.pimg.tw/joyaijia/1428597183-3103042536_n.jpg\\\" alt=\\\"DSC09999.jpg\\\" border=\\\"0\\\" /></a> &nbsp;<br /><br />阿，在此也要提醒捧油們，由於剛從烤箱拿出來的焙鍋鬆餅還是燒燙燙的，更加速了上頭冰淇淋的融化速度...大食女跟妹妹當天就是不小心玩了太久，導致整個冰都融化了(汗<br /><a href=\\\"http://joyaijia.pixnet.net/album/photo/586695088\\\"><img title=\\\"DSC03604.jpg\\\" src=\\\"http://pic.pimg.tw/joyaijia/1428597177-343144713_n.jpg\\\" alt=\\\"DSC03604.jpg\\\" border=\\\"0\\\" /></a> &nbsp;<br /><br />趕緊切塊來嚐嚐囉！！<br /><a href=\\\"http://joyaijia.pixnet.net/album/photo/586695154\\\"><img title=\\\"DSC09000.jpg\\\" src=\\\"http://pic.pimg.tw/joyaijia/1428597178-4193704883_n.jpg\\\" alt=\\\"DSC09000.jpg\\\" border=\\\"0\\\" /></a> &nbsp;<br /><br />外酥內軟的鬆餅，搭上酸V酸V的莓果醬及草莓，真是融化人心阿(暈<br />雖然大食女的草莓冰淇淋已經融化了...但微冰沁涼滋味、搭上溫熱的鬆餅，這冷熱交融的口感，讓大食女好是喜歡！相當推薦的一道甜點阿！！<img src=\\\"//s.pixfs.net/f.pixnet.net/images/emotions/017.gif\\\" alt=\\\"\\\" border=\\\"0\\\" /><br /><a href=\\\"http://joyaijia.pixnet.net/album/photo/586695121\\\"><img title=\\\"DSC09002.jpg\\\" src=\\\"http://pic.pimg.tw/joyaijia/1428597180-2075211873_n.jpg\\\" alt=\\\"DSC09002.jpg\\\" border=\\\"0\\\" /></a> &nbsp;<br /><br />酒足飯飽後，又到了大食女打分數時間啦<img src=\\\"//s.pixfs.net/f.pixnet.net/images/emotions/034.gif\\\" alt=\\\"\\\" border=\\\"0\\\" /> &nbsp;<br /><span style=\\\"color: #ff0000;\\\">✔</span>上餐速度<br />就此次用餐經驗，除了焙鍋鬆餅等候較久之外，其他餐點上餐速度都可說是相當適中，不會等太久～<br /><span style=\\\"color: #ff0000;\\\">✔</span>服務生態度<br />店內服務生態度可說是相當親切！時時將笑容掛在臉上之外、餐點介紹得也很詳細，且會主動發現郎客們需求，就大食女用餐當天，桌上衛生紙只要用完，店員便會前來為我們添補，很貼心<br />大食女是利用假日時段至店用餐，覺得比較可惜的地方在於，店內外場人手似乎有點不足，由於當天整個下午郎客可說都是滿滿滿...從大食女進門那刻，到用餐結束，可說是幾乎座無虛席！因此也發現到，有些郎客們要點餐、或有其他需求時，都要向服務生招手好幾次。但看著兩位外場服務生當天雖然陀螺般地忙碌著，卻仍舊笑容滿點、服務完全不打折，讓大食女心中不由得相當佩服！也建議店家可以在這種熱門用餐時段，多找位外場的人來幫忙囉<br /><span style=\\\"color: #ff0000;\\\">✔</span>餐點部分<br />Tame moose的鹹食、及甜點都讓大食女相當滿意，跟店員聊天後才知道，原來位在天母的Kinfolk&nbsp;Cheese &amp; Coffee從四月起，就正式搬遷到中山站與Tame moose合併了！這對大食女來說無疑是一大福音阿！！不用為了\\\"三眼怪嘎逼\\\"特地跑到天母了！！(大食女之前就看過幾位格友分享Kinfolk的三眼怪咖啡，但一直還沒機會朝聖...唉呀天母實在太遠了&gt;&lt;) 這能不歡呼一下嘛xDDD<br />在此更要大力推薦Tame moose的焙鍋鬆餅給各位捧油們，外酥內軟的口感，讓大食女至今仍是回味無窮阿！這次的酸V莓果口味，實在相當impressed，下次一定要來試試鹹口味的焙鍋鬆餅，究竟是蝦款滋味呢～(期待<br /><span style=\\\"color: #ff0000;\\\">✔</span>用餐環境<br />整間店瀰漫股濃濃工業風的Tame moose，是大食女相當尬藝的裝潢風格，且有別於一般工業風店家帶給人冷冰冰的感覺，店內繽紛的桌椅、及暖色系燈飾，都帶給人另種溫馨感，悠閒氣氛讓人好想坐在那待上整個午後阿！<br />阿，在此也想跟捧油們分享，大食女用餐當天，<span style=\\\"text-decoration: underline;\\\">整間店可說是郎客滿滿滿</span>...所以看到不少組客人，因為沒位子，而另尋他處用餐，實在好可惜阿...因此<span style=\\\"text-decoration: underline;\\\">建議捧油們來店用餐前，不妨先訂位吧</span>:-)</span></p>\\r\\n<p><a href=\\\"http://joyaijia.pixnet.net/album/photo/586696405\\\"><img title=\\\"SHOW_20150408_205910_-1.jpg\\\" src=\\\"http://pic.pimg.tw/joyaijia/1428597328-3454363048_n.jpg\\\" alt=\\\"SHOW_20150408_205910_-1.jpg\\\" border=\\\"0\\\" /></a> &nbsp;<br /><br /><span style=\\\"color: #000000;\\\">☺Tame moose真是間讓大食女相當尬藝的好店，舒適用餐環境，讓人想坐在那享受個恬謐靜雅的午後，大食女一定要速速找時間再去朝聖一下三眼怪嘎逼、還有鹹口味的焙鍋鬆餅(期待阿~)！！在此與捧油們分享囉</span><span style=\\\"font-family: arial; font-size: 13px; line-height: 26px;\\\"><span style=\\\"color: #000000;\\\">☺</span><br /><img title=\\\"2008112515157209.jpg\\\" src=\\\"http://pic.pimg.tw/joyaijia/1416733815-3059476508_n.jpg\\\" alt=\\\"2008112515157209.jpg\\\" border=\\\"0\\\" /> &nbsp;<br /></span></p>\\r\\n<p><strong><span style=\\\"color: #3366ff; background-color: #ffffff;\\\">♢&diams;♢&diams;♢少女們不能錯過的好店♢&diams;♢&diams;♢</span></strong><br /><span style=\\\"color: #993300;\\\"><a href=\\\"http://joyaijia.pixnet.net/blog/post/272401696\\\"><span style=\\\"color: #993300;\\\">[食記] 東區-義式 忠孝敦化站 ✿HERDOR Tea House❀ 超夢幻棒棒糖♡甜心晚餐&hearts;花茶♡要少女怎能不失心瘋啦!!!</span></a></span><br /><span style=\\\"color: #993300;\\\"><a href=\\\"http://joyaijia.pixnet.net/blog/post/270792076\\\"><span style=\\\"color: #993300;\\\">[食記] 板橋區 新埔站 ✿The Toast Heaven❀ 約會新選擇♡讓人心花朵朵開的花花吐司早午餐☺(附完整menu)</span></a></span><br /><span style=\\\"color: #993300;\\\"><a href=\\\"http://joyaijia.pixnet.net/blog/post/255221611\\\"><span style=\\\"color: #993300;\\\">[食記] 大安區 信義安和站 ♫蕾蓓蒂比利時鬆餅♪ oh! 隱身在巷弄裡的創意高CP值比利時鬆餅&hearts;(附完整菜單)</span></a></span><br /><span style=\\\"color: #993300;\\\"><a href=\\\"http://joyaijia.pixnet.net/blog/post/242860495\\\"><span style=\\\"color: #993300;\\\">[食記] 信義區 101站 ♡TWG Tea(101店)&hearts; 每個少女都有個TWG公主夢♪ 時尚奢華下午茶在這裡♕</span></a></span><br /><span style=\\\"color: #993300;\\\"><a href=\\\"http://joyaijia.pixnet.net/blog/post/233582833\\\"><span style=\\\"color: #993300;\\\">[食記] 板橋區 捷運板橋站 ♛柏林頓花園(二訪)♕ 起司控絕對不容錯過的下午茶好所在xDD</span></a></span><br /><span style=\\\"color: #993300;\\\"><a href=\\\"http://joyaijia.pixnet.net/blog/post/133635197\\\"><span style=\\\"color: #993300;\\\">[食記] 板橋站 柏林頓花園 ♫煎餅愛好者有福了♪♪(附完整菜單)</span></a></span><br /><span style=\\\"color: #993300;\\\"><a href=\\\"http://joyaijia.pixnet.net/blog/post/266367385\\\"><span style=\\\"color: #993300;\\\">[食記] 信義區 市政府站 ▥No.5 cafe▤ 名媛貴婦指定的店♢下午茶、鬆餅在這裡♡</span></a></span><br /><span style=\\\"color: #993300;\\\"><a href=\\\"http://joyaijia.pixnet.net/blog/post/166912671\\\"><span style=\\\"color: #993300;\\\">[食記] 東區 ♧忠孝復興站&clubs; PIGIPIGI比崎餐坊 ♫小資女的微貴婦高CP值下午茶♪ (附完整菜單)</span></a></span><br /><span style=\\\"color: #993300;\\\"><a href=\\\"http://joyaijia.pixnet.net/blog/post/160684524\\\"><span style=\\\"color: #993300;\\\">[食記] 東區◩忠孝復興站◪ 好時光迴廊♫平價下午茶❤甜滋滋蜜糖吐司♬</span></a></span><br /><span style=\\\"color: #993300;\\\"><a href=\\\"http://joyaijia.pixnet.net/blog/post/263821645\\\"><span style=\\\"color: #993300;\\\">[食記] 板橋區 新埔站 ♕Birkin Waffle cafe♛ 板橋高CP值♡超大份量早午餐♪ 早餐吃龍蝦好霸氣阿xDD</span></a></span><br /><br /><img src=\\\"//s.pixfs.net/f.pixnet.net/images/emotions/021.gif\\\" alt=\\\"\\\" border=\\\"0\\\" /><span style=\\\"color: #000000;\\\">歡迎大家來找大食女，跟我一起玩耍呦<img src=\\\"//s.pixfs.net/f.pixnet.net/images/emotions/020.gif\\\" alt=\\\"\\\" border=\\\"0\\\" /></span><br /><a href=\\\"https://www.facebook.com/joyaijia\\\"><img title=\\\"fb-2\\\" src=\\\"http://pic.pimg.tw/joyaijia/1417334372-3411544199_n.jpg\\\" alt=\\\"fb-2\\\" border=\\\"0\\\" /></a>&nbsp;&nbsp;</p>\", \"hits\": 53506, \"title\": \"[食記] 大同區-早午餐 中山站 ♘Tame Moose♖ 工業風早午餐♡小酒館♥義式、美式、下午茶、鬆餅、咖啡，這裡通通都有☺\", \"url\": \"http://joyaijia.pixnet.net/blog/post/276016375-%5b%e9%a3%9f%e8%a8%98%5d-%e5%a4%a7%e5%90%8c%e5%8d%80-%e6%97%a9%e5%8d%88%e9%a4%90-%e4%b8%ad%e5%b1%b1%e7%ab%99-%e2%99%98tame-moose%e2%99%96-%e5%b7%a5\", \"author\": \"joyaijia\", \"post_date\": \"2015-04-11T18:43:53+08:00\", \"comment_count\": 23, \"post_at\": 1428749033, \"comment_ids\": [\"orangeceo\", \"deangchuchat\", \"sinya690627\", \"sinya690627\", \"sistravel2\", \"jo65p\", \"sinya690627\", \"greenmarch0315\", \"maxine1103\", \"hx271\", \"leon4e404\", \"alicehuang1199\", \"eva0107\", \"df41022\", \"sinya690627\", \"noyo0223\", \"as660707\", \"circlecircle1\", \"loveyuwa\", \"ChinChingo\", \"ASHnes\"], \"article_id\": \"276016375\", \"tags\": [\"中山站\", \"捷運中山站\", \"捷運中山站美食\", \"中山站美食\", \"捷運中山站下午茶\", \"中山站下午茶\", \"下午茶\", \"中山站早午餐\", \"捷運中山站早午餐\", \"早午餐\", \"捷運中山站義式\", \"中山站義式\", \"義式料理\", \"捷運中山站美式\", \"中山站美式\", \"美式料理\", \"中山站甜點\", \"捷運中山站甜點\", \"鬆餅\", \"Tame moose\"]}\n"
     ]
    }
   ],
   "source": [
    "print(json.dumps(data[100], ensure_ascii=False)) "
   ]
  },
  {
   "cell_type": "code",
   "execution_count": null,
   "metadata": {
    "collapsed": true
   },
   "outputs": [],
   "source": []
  }
 ],
 "metadata": {
  "kernelspec": {
   "display_name": "Python 2",
   "language": "python",
   "name": "python2"
  },
  "language_info": {
   "codemirror_mode": {
    "name": "ipython",
    "version": 2
   },
   "file_extension": ".py",
   "mimetype": "text/x-python",
   "name": "python",
   "nbconvert_exporter": "python",
   "pygments_lexer": "ipython2",
   "version": "2.7.13"
  }
 },
 "nbformat": 4,
 "nbformat_minor": 2
}
